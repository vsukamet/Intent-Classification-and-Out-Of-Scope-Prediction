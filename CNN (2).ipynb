{
  "nbformat": 4,
  "nbformat_minor": 0,
  "metadata": {
    "colab": {
      "name": "Copy of CNN.ipynb",
      "provenance": []
    },
    "kernelspec": {
      "name": "python3",
      "display_name": "Python 3"
    },
    "accelerator": "GPU"
  },
  "cells": [
    {
      "cell_type": "code",
      "metadata": {
        "id": "VIVqQH-TDn8d",
        "colab_type": "code",
        "outputId": "db2dfa3d-033a-4b44-825e-ace0d7bced86",
        "colab": {
          "base_uri": "https://localhost:8080/",
          "height": 35
        }
      },
      "source": [
        "import os\n",
        "import sys\n",
        "import json\n",
        "import requests\n",
        "import numpy as np\n",
        "import pandas as pd\n",
        "import matplotlib.pyplot as plt\n",
        "%matplotlib inline\n",
        "\n",
        "from keras.preprocessing.text import Tokenizer\n",
        "from keras.preprocessing.sequence import pad_sequences\n",
        "from keras.utils import to_categorical\n",
        "from keras.layers import Dense, Input, Flatten\n",
        "from keras.layers import Reshape, Dropout, Concatenate\n",
        "from keras.layers import Conv2D, MaxPool2D, Embedding\n",
        "from keras.models import Model\n",
        "\n",
        "BASE_DIR = 'C:/Users/username/Documents/chatbot/textcnn'\n",
        "GLOVE_DIR = BASE_DIR + '/glove.6B/'\n",
        "TEXT_DATA_DIR = BASE_DIR + '/data/processed_data'\n",
        "MAX_SEQUENCE_LENGTH = 150 # Maximum number of words in a sentence\n",
        "MAX_NB_WORDS = 200000 # Vocabulary size\n",
        "EMBEDDING_DIM = 200 # Dimensions of Glove word vectors \n",
        "VALIDATION_SPLIT = 0.20"
      ],
      "execution_count": 1,
      "outputs": [
        {
          "output_type": "stream",
          "text": [
            "Using TensorFlow backend.\n"
          ],
          "name": "stderr"
        }
      ]
    },
    {
      "cell_type": "code",
      "metadata": {
        "id": "dVhgXJHFO0S4",
        "colab_type": "code",
        "colab": {}
      },
      "source": [
        "df = json.loads(requests.get('https://raw.githubusercontent.com/clinc/oos-eval/master/data/data_oos_plus.json').text)"
      ],
      "execution_count": 0,
      "outputs": []
    },
    {
      "cell_type": "code",
      "metadata": {
        "id": "5a1kolvPO2ph",
        "colab_type": "code",
        "colab": {}
      },
      "source": [
        "''' Getting Training data '''\n",
        "inscope_train = pd.DataFrame(df['train'],columns=['query','intent'])\n",
        "oss_train = pd.DataFrame(df['oos_train'],columns=['query','intent'])\n",
        "\n",
        "''' Getting Validation data '''\n",
        "inscope_val = pd.DataFrame(df['val'],columns=['query','intent'])\n",
        "oss_val = pd.DataFrame(df['oos_val'],columns=['query','intent'])\n",
        "\n",
        "''' Getting Test data '''\n",
        "# inscope_test = pd.DataFrame(df['test'],columns=['query','intent'])\n",
        "# test_df = pd.DataFrame(df['test'],columns=['query','intent'])\n",
        "# oss_test = pd.DataFrame(df['oos_test'],columns=['query','intent'])\n",
        "test_df = pd.DataFrame(df['oos_test'],columns=['query','intent'])\n",
        "\n",
        "\n",
        "train_df = pd.concat([inscope_train,oss_train])\n",
        "val_df = pd.concat([inscope_val,oss_val])\n",
        "# test_df = pd.concat([inscope_test,oss_test])"
      ],
      "execution_count": 0,
      "outputs": []
    },
    {
      "cell_type": "code",
      "metadata": {
        "id": "dz7_hTYsO6Mb",
        "colab_type": "code",
        "colab": {}
      },
      "source": [
        "train_df = train_df.append(val_df).reset_index(drop=True)"
      ],
      "execution_count": 0,
      "outputs": []
    },
    {
      "cell_type": "code",
      "metadata": {
        "id": "dOHSUDL-O_vK",
        "colab_type": "code",
        "outputId": "c84290eb-6f13-466a-c2ff-cb837a325329",
        "colab": {
          "base_uri": "https://localhost:8080/",
          "height": 202
        }
      },
      "source": [
        "train_df.head()"
      ],
      "execution_count": 5,
      "outputs": [
        {
          "output_type": "execute_result",
          "data": {
            "text/html": [
              "<div>\n",
              "<style scoped>\n",
              "    .dataframe tbody tr th:only-of-type {\n",
              "        vertical-align: middle;\n",
              "    }\n",
              "\n",
              "    .dataframe tbody tr th {\n",
              "        vertical-align: top;\n",
              "    }\n",
              "\n",
              "    .dataframe thead th {\n",
              "        text-align: right;\n",
              "    }\n",
              "</style>\n",
              "<table border=\"1\" class=\"dataframe\">\n",
              "  <thead>\n",
              "    <tr style=\"text-align: right;\">\n",
              "      <th></th>\n",
              "      <th>query</th>\n",
              "      <th>intent</th>\n",
              "    </tr>\n",
              "  </thead>\n",
              "  <tbody>\n",
              "    <tr>\n",
              "      <th>0</th>\n",
              "      <td>what expression would i use to say i love you ...</td>\n",
              "      <td>translate</td>\n",
              "    </tr>\n",
              "    <tr>\n",
              "      <th>1</th>\n",
              "      <td>can you tell me how to say 'i do not speak muc...</td>\n",
              "      <td>translate</td>\n",
              "    </tr>\n",
              "    <tr>\n",
              "      <th>2</th>\n",
              "      <td>what is the equivalent of, 'life is good' in f...</td>\n",
              "      <td>translate</td>\n",
              "    </tr>\n",
              "    <tr>\n",
              "      <th>3</th>\n",
              "      <td>tell me how to say, 'it is a beautiful morning...</td>\n",
              "      <td>translate</td>\n",
              "    </tr>\n",
              "    <tr>\n",
              "      <th>4</th>\n",
              "      <td>if i were mongolian, how would i say that i am...</td>\n",
              "      <td>translate</td>\n",
              "    </tr>\n",
              "  </tbody>\n",
              "</table>\n",
              "</div>"
            ],
            "text/plain": [
              "                                               query     intent\n",
              "0  what expression would i use to say i love you ...  translate\n",
              "1  can you tell me how to say 'i do not speak muc...  translate\n",
              "2  what is the equivalent of, 'life is good' in f...  translate\n",
              "3  tell me how to say, 'it is a beautiful morning...  translate\n",
              "4  if i were mongolian, how would i say that i am...  translate"
            ]
          },
          "metadata": {
            "tags": []
          },
          "execution_count": 5
        }
      ]
    },
    {
      "cell_type": "code",
      "metadata": {
        "id": "X6VzOkD4Dtjn",
        "colab_type": "code",
        "outputId": "8d3554b8-82f6-4c35-df7d-7a5d6615fde3",
        "colab": {
          "base_uri": "https://localhost:8080/",
          "height": 89
        }
      },
      "source": [
        "# texts = np.load(open('data/train_text.npy', 'rb')).tolist()\n",
        "# labels = np.load(open('data/train_label.npy', 'rb')).tolist()\n",
        "texts = train_df['query'].to_numpy()\n",
        "labels = train_df['intent'].to_numpy()\n",
        "\n",
        "# test_texts = np.load(open('data/test_text.npy', 'rb')).tolist()\n",
        "# test_labels = np.load(open('data/test_label.npy', 'rb')).tolist()\n",
        "test_texts = test_df['query'].to_numpy()\n",
        "test_labels = test_df['intent'].to_numpy()\n",
        "\n",
        "\n",
        "# Label Encoding: converting text labels into the integers\n",
        "from sklearn import preprocessing\n",
        "\n",
        "train_le = preprocessing.LabelEncoder()\n",
        "train_le.fit(labels)\n",
        "\n",
        "from sklearn.externals import joblib #Saving label encoder, we will need it later\n",
        "joblib.dump(train_le, 'C:\\\\Users\\\\varun\\\\Downloads\\\\label_encoder.pkl') \n",
        "\n",
        "labels = train_le.transform(labels)\n",
        "test_labels = train_le.transform(test_labels)\n",
        "\n",
        "label_dict = dict(zip(list(train_le.classes_), train_le.transform(list(train_le.classes_))))\n",
        "print(label_dict)"
      ],
      "execution_count": 6,
      "outputs": [
        {
          "output_type": "stream",
          "text": [
            "{'accept_reservations': 0, 'account_blocked': 1, 'alarm': 2, 'application_status': 3, 'apr': 4, 'are_you_a_bot': 5, 'balance': 6, 'bill_balance': 7, 'bill_due': 8, 'book_flight': 9, 'book_hotel': 10, 'calculator': 11, 'calendar': 12, 'calendar_update': 13, 'calories': 14, 'cancel': 15, 'cancel_reservation': 16, 'car_rental': 17, 'card_declined': 18, 'carry_on': 19, 'change_accent': 20, 'change_ai_name': 21, 'change_language': 22, 'change_speed': 23, 'change_user_name': 24, 'change_volume': 25, 'confirm_reservation': 26, 'cook_time': 27, 'credit_limit': 28, 'credit_limit_change': 29, 'credit_score': 30, 'current_location': 31, 'damaged_card': 32, 'date': 33, 'definition': 34, 'direct_deposit': 35, 'directions': 36, 'distance': 37, 'do_you_have_pets': 38, 'exchange_rate': 39, 'expiration_date': 40, 'find_phone': 41, 'flight_status': 42, 'flip_coin': 43, 'food_last': 44, 'freeze_account': 45, 'fun_fact': 46, 'gas': 47, 'gas_type': 48, 'goodbye': 49, 'greeting': 50, 'how_busy': 51, 'how_old_are_you': 52, 'improve_credit_score': 53, 'income': 54, 'ingredient_substitution': 55, 'ingredients_list': 56, 'insurance': 57, 'insurance_change': 58, 'interest_rate': 59, 'international_fees': 60, 'international_visa': 61, 'jump_start': 62, 'last_maintenance': 63, 'lost_luggage': 64, 'make_call': 65, 'maybe': 66, 'meal_suggestion': 67, 'meaning_of_life': 68, 'measurement_conversion': 69, 'meeting_schedule': 70, 'min_payment': 71, 'mpg': 72, 'new_card': 73, 'next_holiday': 74, 'next_song': 75, 'no': 76, 'nutrition_info': 77, 'oil_change_how': 78, 'oil_change_when': 79, 'oos': 80, 'order': 81, 'order_checks': 82, 'order_status': 83, 'pay_bill': 84, 'payday': 85, 'pin_change': 86, 'play_music': 87, 'plug_type': 88, 'pto_balance': 89, 'pto_request': 90, 'pto_request_status': 91, 'pto_used': 92, 'recipe': 93, 'redeem_rewards': 94, 'reminder': 95, 'reminder_update': 96, 'repeat': 97, 'replacement_card_duration': 98, 'report_fraud': 99, 'report_lost_card': 100, 'reset_settings': 101, 'restaurant_reservation': 102, 'restaurant_reviews': 103, 'restaurant_suggestion': 104, 'rewards_balance': 105, 'roll_dice': 106, 'rollover_401k': 107, 'routing': 108, 'schedule_maintenance': 109, 'schedule_meeting': 110, 'share_location': 111, 'shopping_list': 112, 'shopping_list_update': 113, 'smart_home': 114, 'spelling': 115, 'spending_history': 116, 'sync_device': 117, 'taxes': 118, 'tell_joke': 119, 'text': 120, 'thank_you': 121, 'time': 122, 'timer': 123, 'timezone': 124, 'tire_change': 125, 'tire_pressure': 126, 'todo_list': 127, 'todo_list_update': 128, 'traffic': 129, 'transactions': 130, 'transfer': 131, 'translate': 132, 'travel_alert': 133, 'travel_notification': 134, 'travel_suggestion': 135, 'uber': 136, 'update_playlist': 137, 'user_name': 138, 'vaccines': 139, 'w2': 140, 'weather': 141, 'what_are_your_hobbies': 142, 'what_can_i_ask_you': 143, 'what_is_your_name': 144, 'what_song': 145, 'where_are_you_from': 146, 'whisper_mode': 147, 'who_do_you_work_for': 148, 'who_made_you': 149, 'yes': 150}\n"
          ],
          "name": "stdout"
        },
        {
          "output_type": "stream",
          "text": [
            "/usr/local/lib/python3.6/dist-packages/sklearn/externals/joblib/__init__.py:15: FutureWarning: sklearn.externals.joblib is deprecated in 0.21 and will be removed in 0.23. Please import this functionality directly from joblib, which can be installed with: pip install joblib. If this warning is raised when loading pickled models, you may need to re-serialize those models with scikit-learn 0.21+.\n",
            "  warnings.warn(msg, category=FutureWarning)\n"
          ],
          "name": "stderr"
        }
      ]
    },
    {
      "cell_type": "code",
      "metadata": {
        "id": "K0Kvf_gLDxvh",
        "colab_type": "code",
        "outputId": "10471c93-249a-42c0-f632-eb60a1d48ff0",
        "colab": {
          "base_uri": "https://localhost:8080/",
          "height": 87
        }
      },
      "source": [
        "\n",
        "\n",
        "tokenizer = Tokenizer(num_words=MAX_NB_WORDS)\n",
        "tokenizer.fit_on_texts(texts)\n",
        "sequences = tokenizer.texts_to_sequences(texts)\n",
        "\n",
        "word_index = tokenizer.word_index\n",
        "print('Found %s unique tokens.' % len(word_index))\n",
        "\n",
        "\n",
        "data = pad_sequences(sequences, maxlen=MAX_SEQUENCE_LENGTH)\n",
        "\n",
        "labels = to_categorical(np.asarray(labels))\n",
        "print('Shape of data tensor:', data.shape)\n",
        "print('Shape of label tensor:', labels.shape)\n",
        "\n",
        "# split the data into a training set and a validation set\n",
        "indices = np.arange(data.shape[0])\n",
        "np.random.shuffle(indices)\n",
        "data = data[indices]\n",
        "labels = labels[indices]\n",
        "num_validation_samples = int(VALIDATION_SPLIT * data.shape[0])\n",
        "\n",
        "x_train = data[:-num_validation_samples]\n",
        "y_train = labels[:-num_validation_samples]\n",
        "x_val = data[-num_validation_samples:]\n",
        "y_val = labels[-num_validation_samples:]\n",
        "\n",
        "print('Preparing embedding matrix.')"
      ],
      "execution_count": 7,
      "outputs": [
        {
          "output_type": "stream",
          "text": [
            "Found 6135 unique tokens.\n",
            "Shape of data tensor: (18350, 150)\n",
            "Shape of label tensor: (18350, 151)\n",
            "Preparing embedding matrix.\n"
          ],
          "name": "stdout"
        }
      ]
    },
    {
      "cell_type": "code",
      "metadata": {
        "id": "94ItLc2kD1jd",
        "colab_type": "code",
        "outputId": "b7521c73-faf9-4c95-f970-e4fb0bf022f4",
        "colab": {
          "base_uri": "https://localhost:8080/",
          "height": 52
        }
      },
      "source": [
        "print('Indexing word vectors.')\n",
        "\n",
        "# GLOVE_DIR = 'D:\\\\nlpproject\\\\CNN_Intent_Classification-master\\\\CNN_Intent_Classification-master\\\\glove.6B'\n",
        "\n",
        "# from google.colab import files\n",
        "# uploaded = files.upload()\n",
        "# file_name = \"hello.txt\"\n",
        "# f = uploaded[file_name].decode(\"utf-8\").split(\"\\r\\n\")\n",
        "# for i in range(len(f)):\n",
        "#   f[i] = f[i].split(\" \")\n",
        "\n",
        "embeddings_index = {}\n",
        "f = open(\"glove.6B.200d.txt\")\n",
        "for line in f:\n",
        "    values = line.split()\n",
        "    word = values[0]\n",
        "    coefs = np.asarray(values[1:], dtype='float32')\n",
        "    embeddings_index[word] = coefs\n",
        "f.close()\n",
        "\n",
        "print('Found %s word vectors.' % len(embeddings_index))"
      ],
      "execution_count": 8,
      "outputs": [
        {
          "output_type": "stream",
          "text": [
            "Indexing word vectors.\n",
            "Found 360802 word vectors.\n"
          ],
          "name": "stdout"
        }
      ]
    },
    {
      "cell_type": "code",
      "metadata": {
        "id": "KolPL3AKD4i-",
        "colab_type": "code",
        "colab": {}
      },
      "source": [
        "\n",
        "num_words = min(MAX_NB_WORDS, len(word_index))\n",
        "embedding_matrix = np.zeros((len(word_index) + 1, EMBEDDING_DIM))\n",
        "for word, i in word_index.items():\n",
        "    embedding_vector = embeddings_index.get(word)\n",
        "    if embedding_vector is not None:\n",
        "        # words not found in embedding index will be all-zeros.\n",
        "        embedding_matrix[i] = embedding_vector"
      ],
      "execution_count": 0,
      "outputs": []
    },
    {
      "cell_type": "code",
      "metadata": {
        "id": "5pnvI9XLD619",
        "colab_type": "code",
        "outputId": "3aadf385-47a7-461c-a0ff-ea033fa869fd",
        "colab": {
          "base_uri": "https://localhost:8080/",
          "height": 659
        }
      },
      "source": [
        "filter_sizes = [3,4,5]\n",
        "num_filters = 200\n",
        "drop = 0.6\n",
        "\n",
        "print(\"Creating Model...\")\n",
        "inputs = Input(shape=(MAX_SEQUENCE_LENGTH,), dtype='int32')\n",
        "embedding = Embedding(input_dim=len(word_index) + 1, output_dim=EMBEDDING_DIM, weights=[embedding_matrix],\n",
        "                      input_length=MAX_SEQUENCE_LENGTH, trainable=False)(inputs)\n",
        "reshape = Reshape((MAX_SEQUENCE_LENGTH,EMBEDDING_DIM,1))(embedding)\n",
        "\n",
        "conv_0 = Conv2D(num_filters, kernel_size=(filter_sizes[0], EMBEDDING_DIM), padding='valid', kernel_initializer='normal', activation='relu')(reshape)\n",
        "\n",
        "conv_1 = Conv2D(num_filters, kernel_size=(filter_sizes[1], EMBEDDING_DIM), padding='valid', kernel_initializer='normal', activation='relu')(reshape)\n",
        "maxpool_1 = MaxPool2D(pool_size=(MAX_SEQUENCE_LENGTH - filter_sizes[1] + 1, 1), strides=(1,1), padding='valid')(conv_1)\n",
        "conv_2 = Conv2D(num_filters, kernel_size=(filter_sizes[2], EMBEDDING_DIM), padding='valid', kernel_initializer='normal', activation='relu')(reshape)\n",
        "\n",
        "maxpool_0 = MaxPool2D(pool_size=(MAX_SEQUENCE_LENGTH - filter_sizes[0] + 1, 1), strides=(1,1), padding='valid')(conv_0)\n",
        "maxpool_1 = MaxPool2D(pool_size=(MAX_SEQUENCE_LENGTH - filter_sizes[1] + 1, 1), strides=(1,1), padding='valid')(conv_1)\n",
        "maxpool_2 = MaxPool2D(pool_size=(MAX_SEQUENCE_LENGTH - filter_sizes[2] + 1, 1), strides=(1,1), padding='valid')(conv_2)\n",
        "\n",
        "concatenated_tensor = Concatenate(axis=1)([maxpool_0, maxpool_1, maxpool_2])\n",
        "flatten = Flatten()(concatenated_tensor)\n",
        "dropout = Dropout(drop)(flatten)\n",
        "preds = Dense(len(label_dict), activation='softmax')(dropout)\n",
        "\n",
        "# this creates a model that includes inputs and outputs\n",
        "model = Model(inputs=inputs, outputs=preds)\n",
        "\n",
        "model.compile(loss='categorical_crossentropy',\n",
        "              optimizer='adam',\n",
        "              metrics=['acc'])\n",
        "\n",
        "model.summary()"
      ],
      "execution_count": 10,
      "outputs": [
        {
          "output_type": "stream",
          "text": [
            "Creating Model...\n",
            "Model: \"model_1\"\n",
            "__________________________________________________________________________________________________\n",
            "Layer (type)                    Output Shape         Param #     Connected to                     \n",
            "==================================================================================================\n",
            "input_1 (InputLayer)            (None, 150)          0                                            \n",
            "__________________________________________________________________________________________________\n",
            "embedding_1 (Embedding)         (None, 150, 200)     1227200     input_1[0][0]                    \n",
            "__________________________________________________________________________________________________\n",
            "reshape_1 (Reshape)             (None, 150, 200, 1)  0           embedding_1[0][0]                \n",
            "__________________________________________________________________________________________________\n",
            "conv2d_1 (Conv2D)               (None, 148, 1, 200)  120200      reshape_1[0][0]                  \n",
            "__________________________________________________________________________________________________\n",
            "conv2d_2 (Conv2D)               (None, 147, 1, 200)  160200      reshape_1[0][0]                  \n",
            "__________________________________________________________________________________________________\n",
            "conv2d_3 (Conv2D)               (None, 146, 1, 200)  200200      reshape_1[0][0]                  \n",
            "__________________________________________________________________________________________________\n",
            "max_pooling2d_2 (MaxPooling2D)  (None, 1, 1, 200)    0           conv2d_1[0][0]                   \n",
            "__________________________________________________________________________________________________\n",
            "max_pooling2d_3 (MaxPooling2D)  (None, 1, 1, 200)    0           conv2d_2[0][0]                   \n",
            "__________________________________________________________________________________________________\n",
            "max_pooling2d_4 (MaxPooling2D)  (None, 1, 1, 200)    0           conv2d_3[0][0]                   \n",
            "__________________________________________________________________________________________________\n",
            "concatenate_1 (Concatenate)     (None, 3, 1, 200)    0           max_pooling2d_2[0][0]            \n",
            "                                                                 max_pooling2d_3[0][0]            \n",
            "                                                                 max_pooling2d_4[0][0]            \n",
            "__________________________________________________________________________________________________\n",
            "flatten_1 (Flatten)             (None, 600)          0           concatenate_1[0][0]              \n",
            "__________________________________________________________________________________________________\n",
            "dropout_1 (Dropout)             (None, 600)          0           flatten_1[0][0]                  \n",
            "__________________________________________________________________________________________________\n",
            "dense_1 (Dense)                 (None, 151)          90751       dropout_1[0][0]                  \n",
            "==================================================================================================\n",
            "Total params: 1,798,551\n",
            "Trainable params: 571,351\n",
            "Non-trainable params: 1,227,200\n",
            "__________________________________________________________________________________________________\n"
          ],
          "name": "stdout"
        }
      ]
    },
    {
      "cell_type": "code",
      "metadata": {
        "id": "oacBn9oyEFoq",
        "colab_type": "code",
        "outputId": "0b5d0064-7a18-4248-9b61-ad902882b83e",
        "colab": {
          "base_uri": "https://localhost:8080/",
          "height": 1000
        }
      },
      "source": [
        "history = model.fit(x_train, y_train,\n",
        "          batch_size=16,\n",
        "          epochs=50,\n",
        "          validation_data=(x_val, y_val))"
      ],
      "execution_count": 11,
      "outputs": [
        {
          "output_type": "stream",
          "text": [
            "Train on 14680 samples, validate on 3670 samples\n",
            "Epoch 1/50\n",
            "14680/14680 [==============================] - 15s 994us/step - loss: 2.3286 - acc: 0.5093 - val_loss: 0.6557 - val_acc: 0.8550\n",
            "Epoch 2/50\n",
            "14680/14680 [==============================] - 8s 526us/step - loss: 0.7109 - acc: 0.8178 - val_loss: 0.4097 - val_acc: 0.8946\n",
            "Epoch 3/50\n",
            "14680/14680 [==============================] - 8s 525us/step - loss: 0.4601 - acc: 0.8748 - val_loss: 0.3362 - val_acc: 0.9147\n",
            "Epoch 4/50\n",
            "14680/14680 [==============================] - 8s 525us/step - loss: 0.3643 - acc: 0.8990 - val_loss: 0.2959 - val_acc: 0.9188\n",
            "Epoch 5/50\n",
            "14680/14680 [==============================] - 8s 512us/step - loss: 0.2962 - acc: 0.9159 - val_loss: 0.2945 - val_acc: 0.9199\n",
            "Epoch 6/50\n",
            "14680/14680 [==============================] - 8s 514us/step - loss: 0.2647 - acc: 0.9241 - val_loss: 0.2793 - val_acc: 0.9240\n",
            "Epoch 7/50\n",
            "14680/14680 [==============================] - 8s 519us/step - loss: 0.2286 - acc: 0.9330 - val_loss: 0.2636 - val_acc: 0.9289\n",
            "Epoch 8/50\n",
            "14680/14680 [==============================] - 8s 522us/step - loss: 0.2166 - acc: 0.9371 - val_loss: 0.2696 - val_acc: 0.9332\n",
            "Epoch 9/50\n",
            "14680/14680 [==============================] - 8s 522us/step - loss: 0.1940 - acc: 0.9420 - val_loss: 0.2557 - val_acc: 0.9349\n",
            "Epoch 10/50\n",
            "14680/14680 [==============================] - 8s 516us/step - loss: 0.1939 - acc: 0.9442 - val_loss: 0.2695 - val_acc: 0.9346\n",
            "Epoch 11/50\n",
            "14680/14680 [==============================] - 8s 519us/step - loss: 0.1698 - acc: 0.9500 - val_loss: 0.2467 - val_acc: 0.9420\n",
            "Epoch 12/50\n",
            "14680/14680 [==============================] - 8s 513us/step - loss: 0.1667 - acc: 0.9508 - val_loss: 0.2716 - val_acc: 0.9379\n",
            "Epoch 13/50\n",
            "14680/14680 [==============================] - 8s 531us/step - loss: 0.1554 - acc: 0.9533 - val_loss: 0.2881 - val_acc: 0.9349\n",
            "Epoch 14/50\n",
            "14680/14680 [==============================] - 8s 529us/step - loss: 0.1702 - acc: 0.9499 - val_loss: 0.2760 - val_acc: 0.9395\n",
            "Epoch 15/50\n",
            "14680/14680 [==============================] - 8s 512us/step - loss: 0.1441 - acc: 0.9560 - val_loss: 0.2970 - val_acc: 0.9390\n",
            "Epoch 16/50\n",
            "14680/14680 [==============================] - 8s 518us/step - loss: 0.1583 - acc: 0.9551 - val_loss: 0.2894 - val_acc: 0.9381\n",
            "Epoch 17/50\n",
            "14680/14680 [==============================] - 8s 517us/step - loss: 0.1417 - acc: 0.9589 - val_loss: 0.2958 - val_acc: 0.9384\n",
            "Epoch 18/50\n",
            "14680/14680 [==============================] - 7s 503us/step - loss: 0.1430 - acc: 0.9595 - val_loss: 0.3067 - val_acc: 0.9373\n",
            "Epoch 19/50\n",
            "14680/14680 [==============================] - 8s 514us/step - loss: 0.1352 - acc: 0.9623 - val_loss: 0.3217 - val_acc: 0.9392\n",
            "Epoch 20/50\n",
            "14680/14680 [==============================] - 7s 505us/step - loss: 0.1339 - acc: 0.9599 - val_loss: 0.3029 - val_acc: 0.9422\n",
            "Epoch 21/50\n",
            "14680/14680 [==============================] - 7s 504us/step - loss: 0.1297 - acc: 0.9630 - val_loss: 0.3075 - val_acc: 0.9403\n",
            "Epoch 22/50\n",
            "14680/14680 [==============================] - 8s 520us/step - loss: 0.1285 - acc: 0.9655 - val_loss: 0.3445 - val_acc: 0.9351\n",
            "Epoch 23/50\n",
            "14680/14680 [==============================] - 8s 514us/step - loss: 0.1254 - acc: 0.9645 - val_loss: 0.3438 - val_acc: 0.9401\n",
            "Epoch 24/50\n",
            "14680/14680 [==============================] - 7s 502us/step - loss: 0.1251 - acc: 0.9659 - val_loss: 0.3696 - val_acc: 0.9362\n",
            "Epoch 25/50\n",
            "14680/14680 [==============================] - 8s 512us/step - loss: 0.1301 - acc: 0.9638 - val_loss: 0.3354 - val_acc: 0.9409\n",
            "Epoch 26/50\n",
            "14680/14680 [==============================] - 7s 510us/step - loss: 0.1308 - acc: 0.9659 - val_loss: 0.3307 - val_acc: 0.9441\n",
            "Epoch 27/50\n",
            "14680/14680 [==============================] - 7s 493us/step - loss: 0.1201 - acc: 0.9677 - val_loss: 0.3596 - val_acc: 0.9379\n",
            "Epoch 28/50\n",
            "14680/14680 [==============================] - 7s 501us/step - loss: 0.1150 - acc: 0.9691 - val_loss: 0.3698 - val_acc: 0.9414\n",
            "Epoch 29/50\n",
            "14680/14680 [==============================] - 7s 508us/step - loss: 0.1236 - acc: 0.9684 - val_loss: 0.3548 - val_acc: 0.9433\n",
            "Epoch 30/50\n",
            "14680/14680 [==============================] - 8s 520us/step - loss: 0.1152 - acc: 0.9691 - val_loss: 0.3704 - val_acc: 0.9431\n",
            "Epoch 31/50\n",
            "14680/14680 [==============================] - 8s 521us/step - loss: 0.1191 - acc: 0.9693 - val_loss: 0.3784 - val_acc: 0.9417\n",
            "Epoch 32/50\n",
            "14680/14680 [==============================] - 8s 513us/step - loss: 0.1136 - acc: 0.9710 - val_loss: 0.3861 - val_acc: 0.9420\n",
            "Epoch 33/50\n",
            "14680/14680 [==============================] - 7s 509us/step - loss: 0.1228 - acc: 0.9679 - val_loss: 0.3862 - val_acc: 0.9441\n",
            "Epoch 34/50\n",
            "14680/14680 [==============================] - 7s 501us/step - loss: 0.1105 - acc: 0.9718 - val_loss: 0.3777 - val_acc: 0.9414\n",
            "Epoch 35/50\n",
            "14680/14680 [==============================] - 7s 502us/step - loss: 0.1027 - acc: 0.9749 - val_loss: 0.4219 - val_acc: 0.9381\n",
            "Epoch 36/50\n",
            "14680/14680 [==============================] - 7s 511us/step - loss: 0.1182 - acc: 0.9702 - val_loss: 0.4083 - val_acc: 0.9381\n",
            "Epoch 37/50\n",
            "14680/14680 [==============================] - 8s 512us/step - loss: 0.1169 - acc: 0.9694 - val_loss: 0.4089 - val_acc: 0.9431\n",
            "Epoch 38/50\n",
            "14680/14680 [==============================] - 8s 515us/step - loss: 0.1176 - acc: 0.9707 - val_loss: 0.4212 - val_acc: 0.9395\n",
            "Epoch 39/50\n",
            "14680/14680 [==============================] - 7s 499us/step - loss: 0.1066 - acc: 0.9730 - val_loss: 0.4028 - val_acc: 0.9450\n",
            "Epoch 40/50\n",
            "14680/14680 [==============================] - 7s 503us/step - loss: 0.0994 - acc: 0.9738 - val_loss: 0.4361 - val_acc: 0.9425\n",
            "Epoch 41/50\n",
            "14680/14680 [==============================] - 8s 518us/step - loss: 0.1078 - acc: 0.9727 - val_loss: 0.4533 - val_acc: 0.9406\n",
            "Epoch 42/50\n",
            "14680/14680 [==============================] - 7s 503us/step - loss: 0.1024 - acc: 0.9750 - val_loss: 0.4173 - val_acc: 0.9452\n",
            "Epoch 43/50\n",
            "14680/14680 [==============================] - 7s 507us/step - loss: 0.1211 - acc: 0.9736 - val_loss: 0.4473 - val_acc: 0.9425\n",
            "Epoch 44/50\n",
            "14680/14680 [==============================] - 8s 524us/step - loss: 0.1077 - acc: 0.9749 - val_loss: 0.4546 - val_acc: 0.9411\n",
            "Epoch 45/50\n",
            "14680/14680 [==============================] - 8s 518us/step - loss: 0.1037 - acc: 0.9757 - val_loss: 0.4119 - val_acc: 0.9460\n",
            "Epoch 46/50\n",
            "14680/14680 [==============================] - 7s 508us/step - loss: 0.0994 - acc: 0.9748 - val_loss: 0.4469 - val_acc: 0.9441\n",
            "Epoch 47/50\n",
            "14680/14680 [==============================] - 8s 512us/step - loss: 0.1050 - acc: 0.9760 - val_loss: 0.4480 - val_acc: 0.9436\n",
            "Epoch 48/50\n",
            "14680/14680 [==============================] - 8s 511us/step - loss: 0.1016 - acc: 0.9751 - val_loss: 0.4700 - val_acc: 0.9431\n",
            "Epoch 49/50\n",
            "14680/14680 [==============================] - 7s 508us/step - loss: 0.1099 - acc: 0.9758 - val_loss: 0.4761 - val_acc: 0.9387\n",
            "Epoch 50/50\n",
            "14680/14680 [==============================] - 7s 506us/step - loss: 0.1029 - acc: 0.9759 - val_loss: 0.4692 - val_acc: 0.9439\n"
          ],
          "name": "stdout"
        }
      ]
    },
    {
      "cell_type": "code",
      "metadata": {
        "id": "xFrmn4ibEIBs",
        "colab_type": "code",
        "outputId": "82437c98-c6e2-4bd8-cc89-17060840a27f",
        "colab": {
          "base_uri": "https://localhost:8080/",
          "height": 573
        }
      },
      "source": [
        "# summarize history for accuracy\n",
        "plt.plot(history.history['acc'])\n",
        "plt.plot(history.history['val_acc'])\n",
        "plt.title('model accuracy')\n",
        "plt.ylabel('accuracy')\n",
        "plt.xlabel('epoch')\n",
        "plt.legend(['train', 'test'], loc='lower right')\n",
        "plt.show()\n",
        "# summarize history for loss\n",
        "plt.plot(history.history['loss'])\n",
        "plt.plot(history.history['val_loss'])\n",
        "plt.title('model loss')\n",
        "plt.ylabel('loss')\n",
        "plt.xlabel('epoch')\n",
        "plt.legend(['train', 'test'], loc='upper right')\n",
        "plt.show()"
      ],
      "execution_count": 12,
      "outputs": [
        {
          "output_type": "display_data",
          "data": {
            "image/png": "[encoded data removed]",
            "text/plain": [
              "<Figure size 432x288 with 1 Axes>"
            ]
          },
          "metadata": {
            "tags": [],
            "needs_background": "light"
          }
        },
        {
          "output_type": "display_data",
          "data": {
            "image/png": "[encoded data removed]",
            "text/plain": [
              "<Figure size 432x288 with 1 Axes>"
            ]
          },
          "metadata": {
            "tags": [],
            "needs_background": "light"
          }
        }
      ]
    },
    {
      "cell_type": "code",
      "metadata": {
        "id": "c8GmBxuFEKU-",
        "colab_type": "code",
        "colab": {}
      },
      "source": [
        "# Processing text to be compatible with model input\n",
        "\n",
        "test_sequences = tokenizer.texts_to_sequences(test_texts)\n",
        "test_input = pad_sequences(test_sequences, maxlen=MAX_SEQUENCE_LENGTH)\n",
        "\n",
        "# Get predictions\n",
        "test_predictions_probas = model.predict(test_input)\n",
        "test_predictions = test_predictions_probas.argmax(axis=-1)"
      ],
      "execution_count": 0,
      "outputs": []
    },
    {
      "cell_type": "code",
      "metadata": {
        "id": "SDxkQUUnEM5F",
        "colab_type": "code",
        "outputId": "f596824c-a049-404a-8069-ca38cb7e28df",
        "colab": {
          "base_uri": "https://localhost:8080/",
          "height": 1000
        }
      },
      "source": [
        "from sklearn.metrics import classification_report\n",
        "\n",
        "test_intent_predictions = train_le.inverse_transform(test_predictions)\n",
        "test_intent_original = train_le.inverse_transform(test_labels)\n",
        "\n",
        "print('accuracy: ', sum(test_intent_predictions == test_intent_original) / len(test_labels))\n",
        "print(\"Precision, Recall and F1-Score:\\n\\n\", classification_report(test_intent_original, test_intent_predictions))"
      ],
      "execution_count": 14,
      "outputs": [
        {
          "output_type": "stream",
          "text": [
            "accuracy:  0.38\n",
            "Precision, Recall and F1-Score:\n",
            "\n",
            "                            precision    recall  f1-score   support\n",
            "\n",
            "      accept_reservations       0.00      0.00      0.00         0\n",
            "          account_blocked       0.00      0.00      0.00         0\n",
            "       application_status       0.00      0.00      0.00         0\n",
            "                      apr       0.00      0.00      0.00         0\n",
            "            are_you_a_bot       0.00      0.00      0.00         0\n",
            "                  balance       0.00      0.00      0.00         0\n",
            "             bill_balance       0.00      0.00      0.00         0\n",
            "                 bill_due       0.00      0.00      0.00         0\n",
            "              book_flight       0.00      0.00      0.00         0\n",
            "               book_hotel       0.00      0.00      0.00         0\n",
            "               calculator       0.00      0.00      0.00         0\n",
            "                 calendar       0.00      0.00      0.00         0\n",
            "          calendar_update       0.00      0.00      0.00         0\n",
            "                 calories       0.00      0.00      0.00         0\n",
            "                   cancel       0.00      0.00      0.00         0\n",
            "       cancel_reservation       0.00      0.00      0.00         0\n",
            "               car_rental       0.00      0.00      0.00         0\n",
            "            card_declined       0.00      0.00      0.00         0\n",
            "                 carry_on       0.00      0.00      0.00         0\n",
            "           change_ai_name       0.00      0.00      0.00         0\n",
            "          change_language       0.00      0.00      0.00         0\n",
            "             change_speed       0.00      0.00      0.00         0\n",
            "                cook_time       0.00      0.00      0.00         0\n",
            "      credit_limit_change       0.00      0.00      0.00         0\n",
            "             credit_score       0.00      0.00      0.00         0\n",
            "         current_location       0.00      0.00      0.00         0\n",
            "             damaged_card       0.00      0.00      0.00         0\n",
            "                     date       0.00      0.00      0.00         0\n",
            "               definition       0.00      0.00      0.00         0\n",
            "           direct_deposit       0.00      0.00      0.00         0\n",
            "               directions       0.00      0.00      0.00         0\n",
            "                 distance       0.00      0.00      0.00         0\n",
            "         do_you_have_pets       0.00      0.00      0.00         0\n",
            "            exchange_rate       0.00      0.00      0.00         0\n",
            "               find_phone       0.00      0.00      0.00         0\n",
            "            flight_status       0.00      0.00      0.00         0\n",
            "                food_last       0.00      0.00      0.00         0\n",
            "           freeze_account       0.00      0.00      0.00         0\n",
            "                 fun_fact       0.00      0.00      0.00         0\n",
            "                      gas       0.00      0.00      0.00         0\n",
            "                 gas_type       0.00      0.00      0.00         0\n",
            "                  goodbye       0.00      0.00      0.00         0\n",
            "                 greeting       0.00      0.00      0.00         0\n",
            "                 how_busy       0.00      0.00      0.00         0\n",
            "          how_old_are_you       0.00      0.00      0.00         0\n",
            "     improve_credit_score       0.00      0.00      0.00         0\n",
            "                   income       0.00      0.00      0.00         0\n",
            "  ingredient_substitution       0.00      0.00      0.00         0\n",
            "         ingredients_list       0.00      0.00      0.00         0\n",
            "                insurance       0.00      0.00      0.00         0\n",
            "         insurance_change       0.00      0.00      0.00         0\n",
            "            interest_rate       0.00      0.00      0.00         0\n",
            "       international_fees       0.00      0.00      0.00         0\n",
            "               jump_start       0.00      0.00      0.00         0\n",
            "         last_maintenance       0.00      0.00      0.00         0\n",
            "             lost_luggage       0.00      0.00      0.00         0\n",
            "                make_call       0.00      0.00      0.00         0\n",
            "                    maybe       0.00      0.00      0.00         0\n",
            "          meal_suggestion       0.00      0.00      0.00         0\n",
            "          meaning_of_life       0.00      0.00      0.00         0\n",
            "   measurement_conversion       0.00      0.00      0.00         0\n",
            "         meeting_schedule       0.00      0.00      0.00         0\n",
            "              min_payment       0.00      0.00      0.00         0\n",
            "                      mpg       0.00      0.00      0.00         0\n",
            "                 new_card       0.00      0.00      0.00         0\n",
            "             next_holiday       0.00      0.00      0.00         0\n",
            "                next_song       0.00      0.00      0.00         0\n",
            "                       no       0.00      0.00      0.00         0\n",
            "           nutrition_info       0.00      0.00      0.00         0\n",
            "           oil_change_how       0.00      0.00      0.00         0\n",
            "          oil_change_when       0.00      0.00      0.00         0\n",
            "                      oos       1.00      0.38      0.55      1000\n",
            "                    order       0.00      0.00      0.00         0\n",
            "             order_checks       0.00      0.00      0.00         0\n",
            "             order_status       0.00      0.00      0.00         0\n",
            "                 pay_bill       0.00      0.00      0.00         0\n",
            "                   payday       0.00      0.00      0.00         0\n",
            "               play_music       0.00      0.00      0.00         0\n",
            "                plug_type       0.00      0.00      0.00         0\n",
            "              pto_balance       0.00      0.00      0.00         0\n",
            "              pto_request       0.00      0.00      0.00         0\n",
            "       pto_request_status       0.00      0.00      0.00         0\n",
            "                 pto_used       0.00      0.00      0.00         0\n",
            "                   recipe       0.00      0.00      0.00         0\n",
            "                 reminder       0.00      0.00      0.00         0\n",
            "          reminder_update       0.00      0.00      0.00         0\n",
            "                   repeat       0.00      0.00      0.00         0\n",
            "replacement_card_duration       0.00      0.00      0.00         0\n",
            "         report_lost_card       0.00      0.00      0.00         0\n",
            "   restaurant_reservation       0.00      0.00      0.00         0\n",
            "       restaurant_reviews       0.00      0.00      0.00         0\n",
            "    restaurant_suggestion       0.00      0.00      0.00         0\n",
            "                roll_dice       0.00      0.00      0.00         0\n",
            "                  routing       0.00      0.00      0.00         0\n",
            "     schedule_maintenance       0.00      0.00      0.00         0\n",
            "         schedule_meeting       0.00      0.00      0.00         0\n",
            "           share_location       0.00      0.00      0.00         0\n",
            "            shopping_list       0.00      0.00      0.00         0\n",
            "     shopping_list_update       0.00      0.00      0.00         0\n",
            "               smart_home       0.00      0.00      0.00         0\n",
            "                 spelling       0.00      0.00      0.00         0\n",
            "         spending_history       0.00      0.00      0.00         0\n",
            "              sync_device       0.00      0.00      0.00         0\n",
            "                    taxes       0.00      0.00      0.00         0\n",
            "                     text       0.00      0.00      0.00         0\n",
            "                thank_you       0.00      0.00      0.00         0\n",
            "                     time       0.00      0.00      0.00         0\n",
            "                    timer       0.00      0.00      0.00         0\n",
            "              tire_change       0.00      0.00      0.00         0\n",
            "            tire_pressure       0.00      0.00      0.00         0\n",
            "                todo_list       0.00      0.00      0.00         0\n",
            "         todo_list_update       0.00      0.00      0.00         0\n",
            "                  traffic       0.00      0.00      0.00         0\n",
            "             transactions       0.00      0.00      0.00         0\n",
            "                 transfer       0.00      0.00      0.00         0\n",
            "                translate       0.00      0.00      0.00         0\n",
            "             travel_alert       0.00      0.00      0.00         0\n",
            "      travel_notification       0.00      0.00      0.00         0\n",
            "        travel_suggestion       0.00      0.00      0.00         0\n",
            "                     uber       0.00      0.00      0.00         0\n",
            "          update_playlist       0.00      0.00      0.00         0\n",
            "                user_name       0.00      0.00      0.00         0\n",
            "                 vaccines       0.00      0.00      0.00         0\n",
            "                       w2       0.00      0.00      0.00         0\n",
            "                  weather       0.00      0.00      0.00         0\n",
            "    what_are_your_hobbies       0.00      0.00      0.00         0\n",
            "       what_can_i_ask_you       0.00      0.00      0.00         0\n",
            "        what_is_your_name       0.00      0.00      0.00         0\n",
            "                what_song       0.00      0.00      0.00         0\n",
            "       where_are_you_from       0.00      0.00      0.00         0\n",
            "             who_made_you       0.00      0.00      0.00         0\n",
            "                      yes       0.00      0.00      0.00         0\n",
            "\n",
            "                 accuracy                           0.38      1000\n",
            "                macro avg       0.01      0.00      0.00      1000\n",
            "             weighted avg       1.00      0.38      0.55      1000\n",
            "\n"
          ],
          "name": "stdout"
        },
        {
          "output_type": "stream",
          "text": [
            "/usr/local/lib/python3.6/dist-packages/sklearn/metrics/_classification.py:1272: UndefinedMetricWarning: Recall and F-score are ill-defined and being set to 0.0 in labels with no true samples. Use `zero_division` parameter to control this behavior.\n",
            "  _warn_prf(average, modifier, msg_start, len(result))\n"
          ],
          "name": "stderr"
        }
      ]
    },
    {
      "cell_type": "code",
      "metadata": {
        "id": "7MPvYv9yESEE",
        "colab_type": "code",
        "colab": {}
      },
      "source": [
        "import csv\n",
        "from itertools import zip_longest\n",
        "a = [test_texts, test_intent_original, test_intent_predictions]\n",
        "data = zip_longest(*a, fillvalue = '')\n",
        "#print(a)\n",
        "with open(\"results_CNN.csv\", \"w\") as results_CNN_file:\n",
        "    wr = csv.writer(results_CNN_file, delimiter=',')\n",
        "    wr.writerow((\"Query\", \"Actual Intent\", \"Predicted Intent\"))\n",
        "    wr.writerows(data)\n",
        "results_CNN_file.close()"
      ],
      "execution_count": 0,
      "outputs": []
    }
  ]
}