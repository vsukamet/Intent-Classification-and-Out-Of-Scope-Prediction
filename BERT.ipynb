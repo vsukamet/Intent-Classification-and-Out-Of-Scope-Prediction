{
  "nbformat": 4,
  "nbformat_minor": 0,
  "metadata": {
    "colab": {
      "name": "BERT.ipynb",
      "provenance": [],
      "collapsed_sections": [],
      "authorship_tag": "ABX9TyMeF5smlX8BdeaUxNk5Hly9",
      "include_colab_link": true
    },
    "kernelspec": {
      "name": "python3",
      "display_name": "Python 3"
    },
    "accelerator": "GPU"
  },
  "cells": [
    {
      "cell_type": "markdown",
      "metadata": {
        "id": "view-in-github",
        "colab_type": "text"
      },
      "source": [
        "<a href=\"https://colab.research.google.com/github/vsukamet/NLPProject/blob/master/BERT.ipynb\" target=\"_parent\"><img src=\"https://colab.research.google.com/assets/colab-badge.svg\" alt=\"Open In Colab\"/></a>"
      ]
    },
    {
      "cell_type": "code",
      "metadata": {
        "id": "Vfj2oeoqzBwk",
        "colab_type": "code",
        "outputId": "48f093f3-095e-45a6-8bcd-d1396d14585d",
        "colab": {
          "base_uri": "https://localhost:8080/",
          "height": 306
        }
      },
      "source": [
        "!nvidia-smi"
      ],
      "execution_count": 2,
      "outputs": [
        {
          "output_type": "stream",
          "text": [
            "Mon May  4 21:16:54 2020       \n",
            "+-----------------------------------------------------------------------------+\n",
            "| NVIDIA-SMI 440.64.00    Driver Version: 418.67       CUDA Version: 10.1     |\n",
            "|-------------------------------+----------------------+----------------------+\n",
            "| GPU  Name        Persistence-M| Bus-Id        Disp.A | Volatile Uncorr. ECC |\n",
            "| Fan  Temp  Perf  Pwr:Usage/Cap|         Memory-Usage | GPU-Util  Compute M. |\n",
            "|===============================+======================+======================|\n",
            "|   0  Tesla P100-PCIE...  Off  | 00000000:00:04.0 Off |                    0 |\n",
            "| N/A   35C    P0    26W / 250W |      0MiB / 16280MiB |      0%      Default |\n",
            "+-------------------------------+----------------------+----------------------+\n",
            "                                                                               \n",
            "+-----------------------------------------------------------------------------+\n",
            "| Processes:                                                       GPU Memory |\n",
            "|  GPU       PID   Type   Process name                             Usage      |\n",
            "|=============================================================================|\n",
            "|  No running processes found                                                 |\n",
            "+-----------------------------------------------------------------------------+\n"
          ],
          "name": "stdout"
        }
      ]
    },
    {
      "cell_type": "code",
      "metadata": {
        "id": "CGNk5ozozK_F",
        "colab_type": "code",
        "outputId": "2b79368a-39a9-4ef0-d0fd-165f0ecdc258",
        "colab": {
          "base_uri": "https://localhost:8080/",
          "height": 105
        }
      },
      "source": [
        "!pip install tensorflow-gpu >> /dev/null"
      ],
      "execution_count": 3,
      "outputs": [
        {
          "output_type": "stream",
          "text": [
            "\u001b[31mERROR: tensorflow 2.2.0rc3 has requirement gast==0.3.3, but you'll have gast 0.2.2 which is incompatible.\u001b[0m\n",
            "\u001b[31mERROR: tensorflow 2.2.0rc3 has requirement tensorboard<2.3.0,>=2.2.0, but you'll have tensorboard 2.1.1 which is incompatible.\u001b[0m\n",
            "\u001b[31mERROR: tensorflow 2.2.0rc3 has requirement tensorflow-estimator<2.3.0,>=2.2.0rc0, but you'll have tensorflow-estimator 2.1.0 which is incompatible.\u001b[0m\n",
            "\u001b[31mERROR: tensorflow-probability 0.10.0rc0 has requirement gast>=0.3.2, but you'll have gast 0.2.2 which is incompatible.\u001b[0m\n"
          ],
          "name": "stdout"
        }
      ]
    },
    {
      "cell_type": "code",
      "metadata": {
        "id": "NlCNOGbKzlK9",
        "colab_type": "code",
        "colab": {}
      },
      "source": [
        "!pip install --upgrade grpcio >> /dev/null"
      ],
      "execution_count": 0,
      "outputs": []
    },
    {
      "cell_type": "code",
      "metadata": {
        "id": "mquhAIFAzpf7",
        "colab_type": "code",
        "colab": {}
      },
      "source": [
        "!pip install tqdm  >> /dev/null"
      ],
      "execution_count": 0,
      "outputs": []
    },
    {
      "cell_type": "code",
      "metadata": {
        "id": "F3Idg3bwzxdz",
        "colab_type": "code",
        "colab": {}
      },
      "source": [
        "!pip install bert-for-tf2 >> /dev/null"
      ],
      "execution_count": 0,
      "outputs": []
    },
    {
      "cell_type": "code",
      "metadata": {
        "id": "IBIcSSDF0Bum",
        "colab_type": "code",
        "colab": {}
      },
      "source": [
        "!pip install sentencepiece >> /dev/null"
      ],
      "execution_count": 0,
      "outputs": []
    },
    {
      "cell_type": "code",
      "metadata": {
        "id": "0C0eCxyK0Dyv",
        "colab_type": "code",
        "outputId": "84b0dd14-36cb-446b-9fa6-0a37e95af800",
        "colab": {
          "base_uri": "https://localhost:8080/",
          "height": 71
        }
      },
      "source": [
        "import os\n",
        "import math\n",
        "import datetime\n",
        "import json\n",
        "import requests\n",
        "\n",
        "from tqdm import tqdm\n",
        "\n",
        "import pandas as pd\n",
        "import numpy as np\n",
        "\n",
        "import tensorflow as tf\n",
        "from tensorflow import keras\n",
        "\n",
        "import bert\n",
        "from bert import BertModelLayer\n",
        "from bert.loader import StockBertConfig, map_stock_config_to_params, load_stock_weights\n",
        "from bert.tokenization.bert_tokenization import FullTokenizer\n",
        "\n",
        "import seaborn as sns\n",
        "from pylab import rcParams\n",
        "\n",
        "from sklearn.metrics import confusion_matrix, classification_report\n",
        "\n",
        "\n",
        "RANDOM_SEED = 42\n",
        "\n",
        "np.random.seed(RANDOM_SEED)"
      ],
      "execution_count": 8,
      "outputs": [
        {
          "output_type": "stream",
          "text": [
            "/usr/local/lib/python3.6/dist-packages/statsmodels/tools/_testing.py:19: FutureWarning: pandas.util.testing is deprecated. Use the functions in the public API at pandas.testing instead.\n",
            "  import pandas.util.testing as tm\n"
          ],
          "name": "stderr"
        }
      ]
    },
    {
      "cell_type": "code",
      "metadata": {
        "id": "yzdVkh3p0qFF",
        "colab_type": "code",
        "colab": {}
      },
      "source": [
        "df = json.loads(requests.get('https://raw.githubusercontent.com/clinc/oos-eval/master/data/data_small.json').text)"
      ],
      "execution_count": 0,
      "outputs": []
    },
    {
      "cell_type": "code",
      "metadata": {
        "id": "aAv52dpN6cQF",
        "colab_type": "code",
        "colab": {}
      },
      "source": [
        "\n",
        "''' Getting Training data '''\n",
        "inscope_train = pd.DataFrame(df['train'],columns=['query','intent'])\n",
        "oss_train = pd.DataFrame(df['oos_train'],columns=['query','intent'])\n",
        "\n",
        "''' Getting Validation data '''\n",
        "inscope_val = pd.DataFrame(df['val'],columns=['query','intent'])\n",
        "oss_val = pd.DataFrame(df['oos_val'],columns=['query','intent'])\n",
        "\n",
        "''' Getting Test data '''\n",
        "inscope_test = pd.DataFrame(df['test'],columns=['query','intent'])\n",
        "oss_test = pd.DataFrame(df['oos_test'],columns=['query','intent'])\n",
        "\n",
        "\n",
        "train_df = pd.concat([inscope_train,oss_train])\n",
        "val_df = pd.concat([inscope_val,oss_val])\n",
        "test_df = pd.concat([inscope_test,oss_test])\n"
      ],
      "execution_count": 0,
      "outputs": []
    },
    {
      "cell_type": "code",
      "metadata": {
        "id": "xZpsR8-X6gkQ",
        "colab_type": "code",
        "outputId": "6a9e2400-2255-466e-c342-c519bb8022eb",
        "colab": {
          "base_uri": "https://localhost:8080/",
          "height": 34
        }
      },
      "source": [
        "train_df.shape"
      ],
      "execution_count": 11,
      "outputs": [
        {
          "output_type": "execute_result",
          "data": {
            "text/plain": [
              "(7600, 2)"
            ]
          },
          "metadata": {
            "tags": []
          },
          "execution_count": 11
        }
      ]
    },
    {
      "cell_type": "code",
      "metadata": {
        "id": "qgT9wGZr6pyh",
        "colab_type": "code",
        "colab": {}
      },
      "source": [
        "train_df = train_df.append(val_df).reset_index(drop=True)"
      ],
      "execution_count": 0,
      "outputs": []
    },
    {
      "cell_type": "code",
      "metadata": {
        "id": "jcHvo8Re6-hE",
        "colab_type": "code",
        "outputId": "62929fa6-61fb-4970-aa08-8d2983d8b964",
        "colab": {
          "base_uri": "https://localhost:8080/",
          "height": 34
        }
      },
      "source": [
        "train_df.shape"
      ],
      "execution_count": 13,
      "outputs": [
        {
          "output_type": "execute_result",
          "data": {
            "text/plain": [
              "(10700, 2)"
            ]
          },
          "metadata": {
            "tags": []
          },
          "execution_count": 13
        }
      ]
    },
    {
      "cell_type": "code",
      "metadata": {
        "id": "sw3D9rDp7Cfp",
        "colab_type": "code",
        "outputId": "d071329e-6bd1-4061-a731-f0c5eb064a0e",
        "colab": {
          "base_uri": "https://localhost:8080/",
          "height": 204
        }
      },
      "source": [
        "train_df.head()"
      ],
      "execution_count": 14,
      "outputs": [
        {
          "output_type": "execute_result",
          "data": {
            "text/html": [
              "<div>\n",
              "<style scoped>\n",
              "    .dataframe tbody tr th:only-of-type {\n",
              "        vertical-align: middle;\n",
              "    }\n",
              "\n",
              "    .dataframe tbody tr th {\n",
              "        vertical-align: top;\n",
              "    }\n",
              "\n",
              "    .dataframe thead th {\n",
              "        text-align: right;\n",
              "    }\n",
              "</style>\n",
              "<table border=\"1\" class=\"dataframe\">\n",
              "  <thead>\n",
              "    <tr style=\"text-align: right;\">\n",
              "      <th></th>\n",
              "      <th>query</th>\n",
              "      <th>intent</th>\n",
              "    </tr>\n",
              "  </thead>\n",
              "  <tbody>\n",
              "    <tr>\n",
              "      <th>0</th>\n",
              "      <td>can you walk me through setting up direct depo...</td>\n",
              "      <td>direct_deposit</td>\n",
              "    </tr>\n",
              "    <tr>\n",
              "      <th>1</th>\n",
              "      <td>i want to switch to direct deposit</td>\n",
              "      <td>direct_deposit</td>\n",
              "    </tr>\n",
              "    <tr>\n",
              "      <th>2</th>\n",
              "      <td>set up direct deposit for me</td>\n",
              "      <td>direct_deposit</td>\n",
              "    </tr>\n",
              "    <tr>\n",
              "      <th>3</th>\n",
              "      <td>how do i go about setting up direct deposit</td>\n",
              "      <td>direct_deposit</td>\n",
              "    </tr>\n",
              "    <tr>\n",
              "      <th>4</th>\n",
              "      <td>i need to get my paycheck direct deposited to ...</td>\n",
              "      <td>direct_deposit</td>\n",
              "    </tr>\n",
              "  </tbody>\n",
              "</table>\n",
              "</div>"
            ],
            "text/plain": [
              "                                               query          intent\n",
              "0  can you walk me through setting up direct depo...  direct_deposit\n",
              "1                 i want to switch to direct deposit  direct_deposit\n",
              "2                       set up direct deposit for me  direct_deposit\n",
              "3        how do i go about setting up direct deposit  direct_deposit\n",
              "4  i need to get my paycheck direct deposited to ...  direct_deposit"
            ]
          },
          "metadata": {
            "tags": []
          },
          "execution_count": 14
        }
      ]
    },
    {
      "cell_type": "code",
      "metadata": {
        "id": "Cxgw5NJy76k5",
        "colab_type": "code",
        "outputId": "908ca885-e15a-4d38-ac97-85f1a846cbfc",
        "colab": {
          "base_uri": "https://localhost:8080/",
          "height": 204
        }
      },
      "source": [
        " !wget https://storage.googleapis.com/bert_models/2018_10_18/uncased_L-12_H-768_A-12.zip"
      ],
      "execution_count": 15,
      "outputs": [
        {
          "output_type": "stream",
          "text": [
            "--2020-05-04 21:18:24--  https://storage.googleapis.com/bert_models/2018_10_18/uncased_L-12_H-768_A-12.zip\n",
            "Resolving storage.googleapis.com (storage.googleapis.com)... 173.194.69.128, 2a00:1450:4013:c01::80\n",
            "Connecting to storage.googleapis.com (storage.googleapis.com)|173.194.69.128|:443... connected.\n",
            "HTTP request sent, awaiting response... 200 OK\n",
            "Length: 407727028 (389M) [application/zip]\n",
            "Saving to: ‘uncased_L-12_H-768_A-12.zip’\n",
            "\n",
            "uncased_L-12_H-768_ 100%[===================>] 388.84M   158MB/s    in 2.5s    \n",
            "\n",
            "2020-05-04 21:18:26 (158 MB/s) - ‘uncased_L-12_H-768_A-12.zip’ saved [407727028/407727028]\n",
            "\n"
          ],
          "name": "stdout"
        }
      ]
    },
    {
      "cell_type": "code",
      "metadata": {
        "id": "I3uJV8zD99r2",
        "colab_type": "code",
        "outputId": "c5a7c382-f789-46d4-d517-59cc6aa75b5e",
        "colab": {
          "base_uri": "https://localhost:8080/",
          "height": 136
        }
      },
      "source": [
        "!unzip uncased_L-12_H-768_A-12.zip"
      ],
      "execution_count": 16,
      "outputs": [
        {
          "output_type": "stream",
          "text": [
            "Archive:  uncased_L-12_H-768_A-12.zip\n",
            "   creating: uncased_L-12_H-768_A-12/\n",
            "  inflating: uncased_L-12_H-768_A-12/bert_model.ckpt.meta  \n",
            "  inflating: uncased_L-12_H-768_A-12/bert_model.ckpt.data-00000-of-00001  \n",
            "  inflating: uncased_L-12_H-768_A-12/vocab.txt  \n",
            "  inflating: uncased_L-12_H-768_A-12/bert_model.ckpt.index  \n",
            "  inflating: uncased_L-12_H-768_A-12/bert_config.json  \n"
          ],
          "name": "stdout"
        }
      ]
    },
    {
      "cell_type": "code",
      "metadata": {
        "id": "qc6xwNGi-G-W",
        "colab_type": "code",
        "colab": {}
      },
      "source": [
        "os.makedirs(\"model\", exist_ok=True)"
      ],
      "execution_count": 0,
      "outputs": []
    },
    {
      "cell_type": "markdown",
      "metadata": {
        "id": "3Sdw2qcFchxv",
        "colab_type": "text"
      },
      "source": [
        ""
      ]
    },
    {
      "cell_type": "code",
      "metadata": {
        "id": "zUTqASNs-g96",
        "colab_type": "code",
        "colab": {}
      },
      "source": [
        "!mv uncased_L-12_H-768_A-12/ model"
      ],
      "execution_count": 0,
      "outputs": []
    },
    {
      "cell_type": "code",
      "metadata": {
        "id": "5NOoF3Is-m1X",
        "colab_type": "code",
        "colab": {}
      },
      "source": [
        "bert_model_name=\"uncased_L-12_H-768_A-12\"\n",
        "bert_check_point_dir = os.path.join(\"model/\", bert_model_name)\n",
        "bert_check_point_file = os.path.join(bert_check_point_dir, \"bert_model.ckpt\")\n",
        "bert_config_file = os.path.join(bert_check_point_dir, \"bert_config.json\")"
      ],
      "execution_count": 0,
      "outputs": []
    },
    {
      "cell_type": "code",
      "metadata": {
        "id": "tX4zTxEW-9rT",
        "colab_type": "code",
        "colab": {}
      },
      "source": [
        "class IntentClassificationTask:\n",
        "  DATA_COLUMN = \"query\"\n",
        "  LABEL_COLUMN = \"intent\"\n",
        "\n",
        "  def __init__(self, train, test, tokenizer: FullTokenizer, classes, max_seq_len=192):\n",
        "    self.tokenizer = tokenizer\n",
        "    self.max_seq_len = 0\n",
        "    self.classes = classes\n",
        "    \n",
        "    ((self.train_x, self.train_y), (self.test_x, self.test_y)) = map(self._split_data, [train, test])\n",
        "\n",
        "    print(\"maximum seq_len\", self.max_seq_len)\n",
        "    self.max_seq_len = min(self.max_seq_len, max_seq_len)\n",
        "    self.train_x, self.test_x = map(self._zeropadding, [self.train_x, self.test_x])\n",
        "\n",
        "  def _split_data(self, df):\n",
        "    x, y = [], []\n",
        "    \n",
        "    for _, row in tqdm(df.iterrows()):\n",
        "      text, label = row[IntentClassificationTask.DATA_COLUMN], row[IntentClassificationTask.LABEL_COLUMN]\n",
        "      # It tokenize the given Sequence\n",
        "      tokens = self.tokenizer.tokenize(text)\n",
        "      # Adding the starter and ending for each sequence\n",
        "      tokens = [\"[CLS]\"] + tokens + [\"[SEP]\"]\n",
        "      #Convert the tokens from text to vector format\n",
        "      token_ids = self.tokenizer.convert_tokens_to_ids(tokens)\n",
        "\n",
        "      self.max_seq_len = max(self.max_seq_len, len(token_ids))\n",
        "      x.append(token_ids)\n",
        "      # Using the index of labels\n",
        "      y.append(self.classes.index(label))\n",
        "\n",
        "    return np.array(x), np.array(y)\n",
        "\n",
        "  def _zeropadding(self, ids):\n",
        "    x = []\n",
        "    for input_ids in ids:\n",
        "      input_ids = input_ids[:min(len(input_ids), self.max_seq_len - 2)]\n",
        "      input_ids = input_ids + [0] * (self.max_seq_len - len(input_ids))\n",
        "      x.append(np.array(input_ids))\n",
        "    return np.array(x)\n"
      ],
      "execution_count": 0,
      "outputs": []
    },
    {
      "cell_type": "code",
      "metadata": {
        "id": "5yiEigQoDSMt",
        "colab_type": "code",
        "colab": {}
      },
      "source": [
        "tokenizer = FullTokenizer(vocab_file=os.path.join(bert_check_point_dir, \"vocab.txt\"))"
      ],
      "execution_count": 0,
      "outputs": []
    },
    {
      "cell_type": "code",
      "metadata": {
        "id": "EEc5Mj8XJ4So",
        "colab_type": "code",
        "colab": {}
      },
      "source": [
        "def create_model(max_seq_len, bert_check_point_file):\n",
        "\n",
        "  with tf.io.gfile.GFile(bert_config_file, \"r\") as reader:\n",
        "    #Reading from the BERT Config File\n",
        "      bc = StockBertConfig.from_json_string(reader.read())\n",
        "      bert_params = map_stock_config_to_params(bc)\n",
        "      bert_params.adapter_size = None\n",
        "      bert = BertModelLayer.from_params(bert_params, name=\"bert-large-uncased\")\n",
        "        \n",
        "  input_ids = keras.layers.Input(shape=(max_seq_len, ), dtype='int32', name=\"input_ids\")\n",
        "  bert_output = bert(input_ids)\n",
        "\n",
        "  print(\"bert shape\", bert_output.shape)\n",
        "\n",
        "  # Output Layer to input BERT Layer\n",
        "  cls_out = keras.layers.Lambda(lambda seq: seq[:, 0, :])(bert_output)\n",
        "  # Adding Drop-out Layer\n",
        "  cls_out = keras.layers.Dropout(0.01)(cls_out)\n",
        "  # Adding Dense output Layer to drop-out Layer (using 'tanh' activation function)\n",
        "  logits = keras.layers.Dense(units=768, activation=\"tanh\")(cls_out)\n",
        "  # Adding Drop-out Layer\n",
        "  logits = keras.layers.Dropout(0.01)(logits)\n",
        "  # Adding Dense output Layer to drop-out Layer (using 'softmax' activation function)\n",
        "  logits = keras.layers.Dense(units=len(classes), activation=\"softmax\")(logits)\n",
        "  \n",
        "  model = keras.Model(inputs=input_ids, outputs=logits)\n",
        "  model.build(input_shape=(None, max_seq_len))\n",
        "\n",
        "  load_stock_weights(bert, bert_check_point_file)\n",
        "        \n",
        "  return model"
      ],
      "execution_count": 0,
      "outputs": []
    },
    {
      "cell_type": "code",
      "metadata": {
        "id": "r2Y2mriYRSFT",
        "colab_type": "code",
        "outputId": "dff21669-b28b-447f-f448-1c00bd244e5f",
        "colab": {
          "base_uri": "https://localhost:8080/",
          "height": 68
        }
      },
      "source": [
        "classes = train_df.intent.unique().tolist()\n",
        "\n",
        "data = IntentClassificationTask(train_df, test_df, tokenizer, classes, max_seq_len=128)"
      ],
      "execution_count": 23,
      "outputs": [
        {
          "output_type": "stream",
          "text": [
            "10700it [00:02, 3987.54it/s]\n",
            "5500it [00:01, 4072.58it/s]\n"
          ],
          "name": "stderr"
        },
        {
          "output_type": "stream",
          "text": [
            "maximum seq_len 32\n"
          ],
          "name": "stdout"
        }
      ]
    },
    {
      "cell_type": "code",
      "metadata": {
        "id": "Soy-AZ-0Co4R",
        "colab_type": "code",
        "colab": {
          "base_uri": "https://localhost:8080/",
          "height": 34
        },
        "outputId": "2a51090f-8b7c-49e9-f50d-56b76482ab99"
      },
      "source": [
        "data.classes.index('oos')"
      ],
      "execution_count": 24,
      "outputs": [
        {
          "output_type": "execute_result",
          "data": {
            "text/plain": [
              "150"
            ]
          },
          "metadata": {
            "tags": []
          },
          "execution_count": 24
        }
      ]
    },
    {
      "cell_type": "code",
      "metadata": {
        "id": "_23udocERkQq",
        "colab_type": "code",
        "outputId": "68c18c5c-c3c9-49ba-8c5b-268e6261dc71",
        "colab": {
          "base_uri": "https://localhost:8080/",
          "height": 258
        }
      },
      "source": [
        "model = create_model(data.max_seq_len, bert_check_point_file)"
      ],
      "execution_count": 25,
      "outputs": [
        {
          "output_type": "stream",
          "text": [
            "bert shape (None, 32, 768)\n",
            "Done loading 196 BERT weights from: model/uncased_L-12_H-768_A-12/bert_model.ckpt into <bert.model.BertModelLayer object at 0x7f858c361b70> (prefix:bert-large-uncased). Count of weights not found in the checkpoint was: [0]. Count of weights with mismatched shape: [0]\n",
            "Unused weights from checkpoint: \n",
            "\tbert/embeddings/token_type_embeddings\n",
            "\tbert/pooler/dense/bias\n",
            "\tbert/pooler/dense/kernel\n",
            "\tcls/predictions/output_bias\n",
            "\tcls/predictions/transform/LayerNorm/beta\n",
            "\tcls/predictions/transform/LayerNorm/gamma\n",
            "\tcls/predictions/transform/dense/bias\n",
            "\tcls/predictions/transform/dense/kernel\n",
            "\tcls/seq_relationship/output_bias\n",
            "\tcls/seq_relationship/output_weights\n"
          ],
          "name": "stdout"
        }
      ]
    },
    {
      "cell_type": "code",
      "metadata": {
        "id": "U00cIYAOSBj-",
        "colab_type": "code",
        "outputId": "87f75228-4ae8-4faa-d7c1-7268a28c42fd",
        "colab": {
          "base_uri": "https://localhost:8080/",
          "height": 34
        }
      },
      "source": [
        "data.train_x.shape"
      ],
      "execution_count": 26,
      "outputs": [
        {
          "output_type": "execute_result",
          "data": {
            "text/plain": [
              "(10700, 32)"
            ]
          },
          "metadata": {
            "tags": []
          },
          "execution_count": 26
        }
      ]
    },
    {
      "cell_type": "code",
      "metadata": {
        "id": "RShL5-T5SMMt",
        "colab_type": "code",
        "outputId": "dab83d43-3902-4a88-f569-77a41851295b",
        "colab": {
          "base_uri": "https://localhost:8080/",
          "height": 85
        }
      },
      "source": [
        "data.train_x[5]"
      ],
      "execution_count": 27,
      "outputs": [
        {
          "output_type": "execute_result",
          "data": {
            "text/plain": [
              "array([  101,  2054,  2024,  1996,  4084,  2000,  2275,  2039,  3622,\n",
              "       12816,  2000,  2026,  5252,  4070,   102,     0,     0,     0,\n",
              "           0,     0,     0,     0,     0,     0,     0,     0,     0,\n",
              "           0,     0,     0,     0,     0])"
            ]
          },
          "metadata": {
            "tags": []
          },
          "execution_count": 27
        }
      ]
    },
    {
      "cell_type": "code",
      "metadata": {
        "id": "-sQN-G8qSQaU",
        "colab_type": "code",
        "outputId": "18a7a92e-a54c-4928-fc35-f9810a25f77f",
        "colab": {
          "base_uri": "https://localhost:8080/",
          "height": 391
        }
      },
      "source": [
        "model.summary()"
      ],
      "execution_count": 28,
      "outputs": [
        {
          "output_type": "stream",
          "text": [
            "Model: \"model\"\n",
            "_________________________________________________________________\n",
            "Layer (type)                 Output Shape              Param #   \n",
            "=================================================================\n",
            "input_ids (InputLayer)       [(None, 32)]              0         \n",
            "_________________________________________________________________\n",
            "bert-large-uncased (BertMode (None, 32, 768)           108890112 \n",
            "_________________________________________________________________\n",
            "lambda (Lambda)              (None, 768)               0         \n",
            "_________________________________________________________________\n",
            "dropout (Dropout)            (None, 768)               0         \n",
            "_________________________________________________________________\n",
            "dense (Dense)                (None, 768)               590592    \n",
            "_________________________________________________________________\n",
            "dropout_1 (Dropout)          (None, 768)               0         \n",
            "_________________________________________________________________\n",
            "dense_1 (Dense)              (None, 151)               116119    \n",
            "=================================================================\n",
            "Total params: 109,596,823\n",
            "Trainable params: 109,596,823\n",
            "Non-trainable params: 0\n",
            "_________________________________________________________________\n"
          ],
          "name": "stdout"
        }
      ]
    },
    {
      "cell_type": "code",
      "metadata": {
        "id": "AB13MfQUS7-C",
        "colab_type": "code",
        "colab": {}
      },
      "source": [
        "model.compile(\n",
        "  optimizer=keras.optimizers.Adam(2e-5),\n",
        "  loss=keras.losses.SparseCategoricalCrossentropy(from_logits=True),\n",
        "  metrics=[keras.metrics.SparseCategoricalAccuracy(name=\"acc\")]\n",
        ")"
      ],
      "execution_count": 0,
      "outputs": []
    },
    {
      "cell_type": "code",
      "metadata": {
        "id": "OlhBH72ATmT6",
        "colab_type": "code",
        "outputId": "8b77840c-8f8f-4098-c773-2716c6cd437b",
        "colab": {
          "base_uri": "https://localhost:8080/",
          "height": 564
        }
      },
      "source": [
        "log_dir = \"log/intent_classification/\" + datetime.datetime.now().strftime(\"%Y%m%d-%H%M%s\")\n",
        "tensorboard_callback = keras.callbacks.TensorBoard(log_dir=log_dir)\n",
        "\n",
        "history = model.fit(\n",
        "  x=data.train_x, \n",
        "  y=data.train_y,\n",
        "  validation_split=0.1,\n",
        "  batch_size=32,\n",
        "  shuffle=True,\n",
        "  epochs=15,\n",
        "  callbacks=[tensorboard_callback]\n",
        ")"
      ],
      "execution_count": 30,
      "outputs": [
        {
          "output_type": "stream",
          "text": [
            "Train on 9630 samples, validate on 1070 samples\n",
            "Epoch 1/15\n",
            "9630/9630 [==============================] - 125s 13ms/sample - loss: 4.9312 - acc: 0.1143 - val_loss: 4.8948 - val_acc: 0.1374\n",
            "Epoch 2/15\n",
            "9630/9630 [==============================] - 107s 11ms/sample - loss: 4.6065 - acc: 0.4472 - val_loss: 4.7153 - val_acc: 0.3196\n",
            "Epoch 3/15\n",
            "9630/9630 [==============================] - 107s 11ms/sample - loss: 4.4138 - acc: 0.6373 - val_loss: 4.5131 - val_acc: 0.5271\n",
            "Epoch 4/15\n",
            "9630/9630 [==============================] - 107s 11ms/sample - loss: 4.3025 - acc: 0.7405 - val_loss: 4.3995 - val_acc: 0.6486\n",
            "Epoch 5/15\n",
            "9630/9630 [==============================] - 107s 11ms/sample - loss: 4.2231 - acc: 0.8172 - val_loss: 4.3269 - val_acc: 0.7084\n",
            "Epoch 6/15\n",
            "9630/9630 [==============================] - 107s 11ms/sample - loss: 4.1763 - acc: 0.8606 - val_loss: 4.2792 - val_acc: 0.7589\n",
            "Epoch 7/15\n",
            "9630/9630 [==============================] - 107s 11ms/sample - loss: 4.1406 - acc: 0.8942 - val_loss: 4.2411 - val_acc: 0.7972\n",
            "Epoch 8/15\n",
            "9630/9630 [==============================] - 107s 11ms/sample - loss: 4.1152 - acc: 0.9192 - val_loss: 4.1896 - val_acc: 0.8533\n",
            "Epoch 9/15\n",
            "9630/9630 [==============================] - 107s 11ms/sample - loss: 4.1042 - acc: 0.9270 - val_loss: 4.1824 - val_acc: 0.8542\n",
            "Epoch 10/15\n",
            "9630/9630 [==============================] - 107s 11ms/sample - loss: 4.0928 - acc: 0.9389 - val_loss: 4.1903 - val_acc: 0.8449\n",
            "Epoch 11/15\n",
            "9630/9630 [==============================] - 107s 11ms/sample - loss: 4.0749 - acc: 0.9561 - val_loss: 4.1757 - val_acc: 0.8607\n",
            "Epoch 12/15\n",
            "9630/9630 [==============================] - 107s 11ms/sample - loss: 4.0636 - acc: 0.9678 - val_loss: 4.1913 - val_acc: 0.8439\n",
            "Epoch 13/15\n",
            "9630/9630 [==============================] - 107s 11ms/sample - loss: 4.0564 - acc: 0.9747 - val_loss: 4.1636 - val_acc: 0.8738\n",
            "Epoch 14/15\n",
            "9630/9630 [==============================] - 107s 11ms/sample - loss: 4.0475 - acc: 0.9826 - val_loss: 4.1461 - val_acc: 0.8935\n",
            "Epoch 15/15\n",
            "9630/9630 [==============================] - 107s 11ms/sample - loss: 4.0454 - acc: 0.9840 - val_loss: 4.1422 - val_acc: 0.8944\n"
          ],
          "name": "stdout"
        }
      ]
    },
    {
      "cell_type": "code",
      "metadata": {
        "id": "5G5wHzamUUD9",
        "colab_type": "code",
        "colab": {}
      },
      "source": [
        "# _, train_accuracy = model.evaluate(data.train_x, data.train_y)\n",
        "# _, test_accuracy = model.evaluate(data.test_x, data.test_y)\n",
        "model.save_weights('./bert_model_wikiaug.h5')"
      ],
      "execution_count": 0,
      "outputs": []
    },
    {
      "cell_type": "code",
      "metadata": {
        "id": "NcMqLH8uRwhP",
        "colab_type": "code",
        "colab": {}
      },
      "source": [
        "model.load_weights('./bert_model_wikiaug.h5')"
      ],
      "execution_count": 0,
      "outputs": []
    },
    {
      "cell_type": "code",
      "metadata": {
        "id": "3Df6laRldg1t",
        "colab_type": "code",
        "colab": {
          "base_uri": "https://localhost:8080/",
          "height": 34
        },
        "outputId": "f622cedc-16ef-4169-f18e-895e1ae069b3"
      },
      "source": [
        "# Get predictions\n",
        "test_predictions_probas = model.predict(data.test_x)\n",
        "test_predictions = test_predictions_probas.argmax(axis=-1)\n",
        "\n",
        "\n",
        "from sklearn import metrics\n",
        "\n",
        "boolean_test = (data.test_y != 150)\n",
        "y_test_inclass = data.test_y[data.test_y != 150]\n",
        "y_test_pred_inclass = [test_predictions[i] for i in range(len(test_predictions)) if boolean_test[i]]\n",
        "\n",
        "print(\"Inscope_Accuracy using BERT with wikiaug dataset\",metrics.accuracy_score(y_true = y_test_inclass,y_pred = y_test_pred_inclass))\n",
        "# print(\"training accuracy\", train_accuracy)\n",
        "# print(\"test accuracy\", test_accuracy)\n",
        "\n",
        "\n",
        "# from sklearn.metrics import classification_report\n",
        "# print(\"Precision, Recall and F1-Score:\\n\\n\", classification_report(data.test_y, test_predictions))\n"
      ],
      "execution_count": 36,
      "outputs": [
        {
          "output_type": "stream",
          "text": [
            "Inscope_Accuracy using BERT with wikiaug dataset 0.9603333333333334\n"
          ],
          "name": "stdout"
        }
      ]
    },
    {
      "cell_type": "code",
      "metadata": {
        "id": "wxBQJ3v6_2o2",
        "colab_type": "code",
        "colab": {
          "base_uri": "https://localhost:8080/",
          "height": 34
        },
        "outputId": "c951469e-5561-4056-d618-4a73823ad991"
      },
      "source": [
        "from collections import Counter\n",
        "\n",
        "true_positives_test = Counter(np.logical_and(test_predictions == 150,data.test_y == 150))[True]\n",
        "false_negatives_test = Counter(np.logical_and(test_predictions != 150,data.test_y == 150))[True]\n",
        "\n",
        "print(\"Out_of_Scope_Recall using BERT with wikiaug dataset\",((true_positives_test)/(true_positives_test+false_negatives_test)))"
      ],
      "execution_count": 37,
      "outputs": [
        {
          "output_type": "stream",
          "text": [
            "Out_of_Scope_Recall using BERT with wikiaug dataset 0.5670000000000001\n"
          ],
          "name": "stdout"
        }
      ]
    },
    {
      "cell_type": "code",
      "metadata": {
        "id": "GF6gVFKVD3bg",
        "colab_type": "code",
        "colab": {}
      },
      "source": [
        ""
      ],
      "execution_count": 0,
      "outputs": []
    },
    {
      "cell_type": "code",
      "metadata": {
        "id": "GOA5xZ3SUDfX",
        "colab_type": "code",
        "colab": {}
      },
      "source": [
        ""
      ],
      "execution_count": 0,
      "outputs": []
    }
  ]
}