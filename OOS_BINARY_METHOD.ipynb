{
  "nbformat": 4,
  "nbformat_minor": 0,
  "metadata": {
    "colab": {
      "name": "OOS_BINARY_METHOD.ipynb",
      "provenance": [],
      "collapsed_sections": [],
      "authorship_tag": "ABX9TyN8z+tu5BumBHzAw2FFWPVi",
      "include_colab_link": true
    },
    "kernelspec": {
      "name": "python3",
      "display_name": "Python 3"
    }
  },
  "cells": [
    {
      "cell_type": "markdown",
      "metadata": {
        "id": "view-in-github",
        "colab_type": "text"
      },
      "source": [
        "<a href=\"https://colab.research.google.com/github/vsukamet/NLPProject/blob/master/OOS_BINARY_METHOD.ipynb\" target=\"_parent\"><img src=\"https://colab.research.google.com/assets/colab-badge.svg\" alt=\"Open In Colab\"/></a>"
      ]
    },
    {
      "cell_type": "code",
      "metadata": {
        "id": "LOhKHmwicseX",
        "colab_type": "code",
        "colab": {}
      },
      "source": [
        "import os\n",
        "import sys\n",
        "import json\n",
        "import requests\n",
        "import numpy as np\n",
        "import pandas as pd\n",
        "import matplotlib.pyplot as plt"
      ],
      "execution_count": 0,
      "outputs": []
    },
    {
      "cell_type": "code",
      "metadata": {
        "id": "7ACoBTJbdE2C",
        "colab_type": "code",
        "colab": {}
      },
      "source": [
        "df = json.loads(requests.get('https://raw.githubusercontent.com/clinc/oos-eval/master/data/binary_undersample.json').text)\n",
        "df_full = json.loads(requests.get('https://raw.githubusercontent.com/clinc/oos-eval/master/data/data_oos_plus.json').text)"
      ],
      "execution_count": 0,
      "outputs": []
    },
    {
      "cell_type": "markdown",
      "metadata": {
        "id": "5aE5QePtjBBs",
        "colab_type": "text"
      },
      "source": [
        ""
      ]
    },
    {
      "cell_type": "code",
      "metadata": {
        "id": "qMChKZ6QdeAM",
        "colab_type": "code",
        "colab": {}
      },
      "source": [
        "''' Getting Training data '''\n",
        "train = pd.DataFrame(df['train'],columns=['query','label'])\n",
        "train_inscope = pd.DataFrame(df_full['train'],columns=['query','intent'])\n",
        "\n",
        "''' Getting Validation data '''\n",
        "val = pd.DataFrame(df['val'],columns=['query','label'])\n",
        "val_inscope = pd.DataFrame(df_full['val'],columns=['query','intent'])\n",
        "\n",
        "''' Getting Test data '''\n",
        "test = pd.DataFrame(df['test'],columns=['query','label'])\n",
        "test_inscope = pd.DataFrame(df_full['test'],columns=['query','intent'])"
      ],
      "execution_count": 0,
      "outputs": []
    },
    {
      "cell_type": "code",
      "metadata": {
        "id": "9IgQUbwOdiku",
        "colab_type": "code",
        "outputId": "71a296c9-4f64-42b7-fe9f-88d9d712f366",
        "colab": {
          "base_uri": "https://localhost:8080/",
          "height": 419
        }
      },
      "source": [
        "inscope_df_full = pd.concat([train_inscope,val_inscope,test_inscope])\n",
        "inscope_df_full"
      ],
      "execution_count": 0,
      "outputs": [
        {
          "output_type": "execute_result",
          "data": {
            "text/html": [
              "<div>\n",
              "<style scoped>\n",
              "    .dataframe tbody tr th:only-of-type {\n",
              "        vertical-align: middle;\n",
              "    }\n",
              "\n",
              "    .dataframe tbody tr th {\n",
              "        vertical-align: top;\n",
              "    }\n",
              "\n",
              "    .dataframe thead th {\n",
              "        text-align: right;\n",
              "    }\n",
              "</style>\n",
              "<table border=\"1\" class=\"dataframe\">\n",
              "  <thead>\n",
              "    <tr style=\"text-align: right;\">\n",
              "      <th></th>\n",
              "      <th>query</th>\n",
              "      <th>intent</th>\n",
              "    </tr>\n",
              "  </thead>\n",
              "  <tbody>\n",
              "    <tr>\n",
              "      <th>0</th>\n",
              "      <td>what expression would i use to say i love you ...</td>\n",
              "      <td>translate</td>\n",
              "    </tr>\n",
              "    <tr>\n",
              "      <th>1</th>\n",
              "      <td>can you tell me how to say 'i do not speak muc...</td>\n",
              "      <td>translate</td>\n",
              "    </tr>\n",
              "    <tr>\n",
              "      <th>2</th>\n",
              "      <td>what is the equivalent of, 'life is good' in f...</td>\n",
              "      <td>translate</td>\n",
              "    </tr>\n",
              "    <tr>\n",
              "      <th>3</th>\n",
              "      <td>tell me how to say, 'it is a beautiful morning...</td>\n",
              "      <td>translate</td>\n",
              "    </tr>\n",
              "    <tr>\n",
              "      <th>4</th>\n",
              "      <td>if i were mongolian, how would i say that i am...</td>\n",
              "      <td>translate</td>\n",
              "    </tr>\n",
              "    <tr>\n",
              "      <th>...</th>\n",
              "      <td>...</td>\n",
              "      <td>...</td>\n",
              "    </tr>\n",
              "    <tr>\n",
              "      <th>4495</th>\n",
              "      <td>why can't i use my credit card</td>\n",
              "      <td>card_declined</td>\n",
              "    </tr>\n",
              "    <tr>\n",
              "      <th>4496</th>\n",
              "      <td>why won't you let me pay with my credit card</td>\n",
              "      <td>card_declined</td>\n",
              "    </tr>\n",
              "    <tr>\n",
              "      <th>4497</th>\n",
              "      <td>why did i get rejected on my card</td>\n",
              "      <td>card_declined</td>\n",
              "    </tr>\n",
              "    <tr>\n",
              "      <th>4498</th>\n",
              "      <td>how come my credit card isn't working</td>\n",
              "      <td>card_declined</td>\n",
              "    </tr>\n",
              "    <tr>\n",
              "      <th>4499</th>\n",
              "      <td>why didn't my card work</td>\n",
              "      <td>card_declined</td>\n",
              "    </tr>\n",
              "  </tbody>\n",
              "</table>\n",
              "<p>22500 rows × 2 columns</p>\n",
              "</div>"
            ],
            "text/plain": [
              "                                                  query         intent\n",
              "0     what expression would i use to say i love you ...      translate\n",
              "1     can you tell me how to say 'i do not speak muc...      translate\n",
              "2     what is the equivalent of, 'life is good' in f...      translate\n",
              "3     tell me how to say, 'it is a beautiful morning...      translate\n",
              "4     if i were mongolian, how would i say that i am...      translate\n",
              "...                                                 ...            ...\n",
              "4495                     why can't i use my credit card  card_declined\n",
              "4496       why won't you let me pay with my credit card  card_declined\n",
              "4497                  why did i get rejected on my card  card_declined\n",
              "4498              how come my credit card isn't working  card_declined\n",
              "4499                            why didn't my card work  card_declined\n",
              "\n",
              "[22500 rows x 2 columns]"
            ]
          },
          "metadata": {
            "tags": []
          },
          "execution_count": 179
        }
      ]
    },
    {
      "cell_type": "code",
      "metadata": {
        "id": "vme0axGfm7Bp",
        "colab_type": "code",
        "outputId": "db5bfa19-8ee1-42ef-ebf8-bc34cc5f1efb",
        "colab": {
          "base_uri": "https://localhost:8080/",
          "height": 34
        }
      },
      "source": [
        "#First_Stage_Classification (Preprocessing Step)\n",
        "\n",
        "train = train.append(val).reset_index(drop=True)\n",
        "\n",
        "X_train = train['query'].values\n",
        "Y_train = train['label'].values\n",
        "\n",
        "# X_val = val['query'].values\n",
        "# Y_val = val['label'].values\n",
        "\n",
        "X_test = test['query'].values\n",
        "Y_test = test['label'].values\n",
        "\n",
        "#Transforming the text labels into numerics\n",
        "from sklearn import preprocessing\n",
        "\n",
        "train_enc = preprocessing.LabelEncoder()\n",
        "train_enc.fit(Y_train)\n",
        "\n",
        "Y_train = train_enc.transform(Y_train)\n",
        "# Y_val = train_enc.transform(Y_val)\n",
        "Y_test = train_enc.transform(Y_test)\n",
        "\n",
        "label_dict = dict(zip(list(train_enc.classes_), train_enc.transform(list(train_enc.classes_))))\n",
        "print(label_dict)"
      ],
      "execution_count": 0,
      "outputs": [
        {
          "output_type": "stream",
          "text": [
            "{'in': 0, 'oos': 1}\n"
          ],
          "name": "stdout"
        }
      ]
    },
    {
      "cell_type": "code",
      "metadata": {
        "id": "8WKAEQRfyOIJ",
        "colab_type": "code",
        "outputId": "578c9176-7c64-4327-f1ee-ea5694c69041",
        "colab": {
          "base_uri": "https://localhost:8080/",
          "height": 34
        }
      },
      "source": [
        "#First_Stage_Classification (Tokenizing the text)\n",
        "from sklearn.feature_extraction.text import CountVectorizer,TfidfVectorizer\n",
        "\n",
        "# TF-IDF BASED FEATURE REPRESENTATION\n",
        "tfidf_model=TfidfVectorizer(use_idf=True, max_df=0.95)\n",
        "tfidf_model.fit_transform(X_train)\n",
        "\n",
        "X_train=tfidf_model.transform(X_train)\n",
        "# X_val=tfidf_model.transform(X_val)\n",
        "X_test=tfidf_model.transform(X_test)\n",
        "type(X_test)"
      ],
      "execution_count": 0,
      "outputs": [
        {
          "output_type": "execute_result",
          "data": {
            "text/plain": [
              "scipy.sparse.csr.csr_matrix"
            ]
          },
          "metadata": {
            "tags": []
          },
          "execution_count": 181
        }
      ]
    },
    {
      "cell_type": "code",
      "metadata": {
        "id": "AbsG1EVszRli",
        "colab_type": "code",
        "outputId": "5f2ac074-d97f-460a-c4fa-d952f4cdc95e",
        "colab": {
          "base_uri": "https://localhost:8080/",
          "height": 34
        }
      },
      "source": [
        "#First_Stage_Classification (Training the model)\n",
        "\n",
        "from sklearn.neural_network import MLPClassifier\n",
        "from sklearn.svm import SVC\n",
        "\n",
        "\n",
        "model = SVC(kernel='linear',C=1)\n",
        "\n",
        "# model = MLPClassifier(hidden_layer_sizes=(400, ), activation='tanh', solver='adam', alpha=0.0001, batch_size='auto',\n",
        "#                                    learning_rate='constant', learning_rate_init=0.001, power_t=0.5,\n",
        "#                                    max_iter=200, shuffle=True, random_state=None, tol=0.0001, verbose=False,\n",
        "#                                    warm_start=False, momentum=0.9, nesterovs_momentum=True, early_stopping=False,\n",
        "#                                    validation_fraction=0.1, beta_1=0.9, beta_2=0.999, epsilon=1e-08, n_iter_no_change=10)\n",
        "\n",
        "model.fit(X_train,Y_train)\n",
        "\n",
        "# y_val_pred = model.predict(X_val)\n",
        "y_test_pred = model.predict(X_test)\n",
        "\n",
        "# val_intent_predictions = train_enc.inverse_transform(y_val_pred)\n",
        "test_intent_predictions = train_enc.inverse_transform(y_test_pred)\n",
        "\n",
        "type(test_intent_predictions)\n"
      ],
      "execution_count": 0,
      "outputs": [
        {
          "output_type": "execute_result",
          "data": {
            "text/plain": [
              "numpy.ndarray"
            ]
          },
          "metadata": {
            "tags": []
          },
          "execution_count": 182
        }
      ]
    },
    {
      "cell_type": "code",
      "metadata": {
        "id": "XBfEF2TiZFV5",
        "colab_type": "code",
        "colab": {}
      },
      "source": [
        "First_Stage_Val_Predictions = np.vstack([test['query'].values,test_intent_predictions])\n",
        "First_Stage_Val_Predictions = First_Stage_Val_Predictions.T\n",
        "First_Stage_Val_Pred_inscope = First_Stage_Val_Predictions[First_Stage_Val_Predictions[:,1] == 'in']"
      ],
      "execution_count": 0,
      "outputs": []
    },
    {
      "cell_type": "code",
      "metadata": {
        "id": "nUYGX3Ea9C1p",
        "colab_type": "code",
        "colab": {}
      },
      "source": [
        "#Second-Stage Classification\n",
        "\n",
        "#Getting the True-labels of In-Scope-Queries for Train Dataframe to Train the Model\n",
        "inscope_train_queries = train[train.label == 'in']\n",
        "inscope_train_undersample = pd.merge(inscope_train_queries,inscope_df_full,on='query',how = 'inner')\n",
        "\n",
        "\n",
        "X_inscope_train = inscope_train_undersample['query'].values\n",
        "Y_inscope_train = inscope_train_undersample['intent'].values\n",
        "\n",
        "#Transforming the text labels into numerics\n",
        "train_enc_inscope = preprocessing.LabelEncoder()\n",
        "train_enc_inscope.fit(Y_inscope_train)\n",
        "Y_train_inscope = train_enc_inscope.transform(Y_inscope_train)\n",
        "\n",
        "\n",
        "# TF-IDF BASED FEATURE REPRESENTATION\n",
        "tfidf_model_2 = TfidfVectorizer(use_idf=True, max_df=0.95)\n",
        "tfidf_model_2.fit_transform(X_inscope_train)\n",
        "X_train_inscope = tfidf_model_2.transform(X_inscope_train)\n",
        "\n",
        "X_test_inscope = tfidf_model_2.transform(First_Stage_Val_Pred_inscope[:,0])\n",
        "\n",
        "# #Training the MLP Model again to further Classify\n",
        "\n",
        "model_2 = SVC(kernel='linear',C=1)\n",
        "# model_2 = MLPClassifier(hidden_layer_sizes=(400, ), activation='tanh', solver='adam', alpha=0.0001, batch_size='auto',\n",
        "#                                    learning_rate='constant', learning_rate_init=0.001, power_t=0.5,\n",
        "#                                    max_iter=200, shuffle=True, random_state=None, tol=0.0001, verbose=False,\n",
        "#                                    warm_start=False, momentum=0.9, nesterovs_momentum=True, early_stopping=False,\n",
        "#                                    validation_fraction=0.1, beta_1=0.9, beta_2=0.999, epsilon=1e-08, n_iter_no_change=10)\n",
        "\n",
        "model_2.fit(X_train_inscope,Y_train_inscope)\n",
        "\n",
        "y_test_pred_inscope = model_2.predict(X_test_inscope)\n",
        "\n",
        "test_predictions_inscope = train_enc_inscope.inverse_transform(y_test_pred_inscope)\n",
        "\n",
        "\n"
      ],
      "execution_count": 0,
      "outputs": []
    },
    {
      "cell_type": "code",
      "metadata": {
        "id": "rNfkUMY8NK5-",
        "colab_type": "code",
        "colab": {}
      },
      "source": [
        "First_Stage_Predictions = pd.DataFrame({'query':test['query'].values,'intent':test_intent_predictions})\n",
        "Second_Stage_inscope_Predictions = pd.DataFrame({'query':First_Stage_Val_Pred_inscope[:,0],'intent':test_predictions_inscope})\n",
        "# print(First_Stage_Predictions)\n",
        "# print(Second_Stage_inscope_Predictions)"
      ],
      "execution_count": 0,
      "outputs": []
    },
    {
      "cell_type": "code",
      "metadata": {
        "id": "3Iq2wjL0kC4M",
        "colab_type": "code",
        "outputId": "a813c34c-dde5-45ba-eab1-14c4a153345d",
        "colab": {
          "base_uri": "https://localhost:8080/",
          "height": 419
        }
      },
      "source": [
        "final_predictions = First_Stage_Predictions.merge(Second_Stage_inscope_Predictions,on='query',how='left')\n",
        "final_predictions[\"intent_y\"].fillna(\"oos\", inplace = True) \n",
        "final_predictions"
      ],
      "execution_count": 0,
      "outputs": [
        {
          "output_type": "execute_result",
          "data": {
            "text/html": [
              "<div>\n",
              "<style scoped>\n",
              "    .dataframe tbody tr th:only-of-type {\n",
              "        vertical-align: middle;\n",
              "    }\n",
              "\n",
              "    .dataframe tbody tr th {\n",
              "        vertical-align: top;\n",
              "    }\n",
              "\n",
              "    .dataframe thead th {\n",
              "        text-align: right;\n",
              "    }\n",
              "</style>\n",
              "<table border=\"1\" class=\"dataframe\">\n",
              "  <thead>\n",
              "    <tr style=\"text-align: right;\">\n",
              "      <th></th>\n",
              "      <th>query</th>\n",
              "      <th>intent_x</th>\n",
              "      <th>intent_y</th>\n",
              "    </tr>\n",
              "  </thead>\n",
              "  <tbody>\n",
              "    <tr>\n",
              "      <th>0</th>\n",
              "      <td>how would you say fly in italian</td>\n",
              "      <td>in</td>\n",
              "      <td>translate</td>\n",
              "    </tr>\n",
              "    <tr>\n",
              "      <th>1</th>\n",
              "      <td>what's the spanish word for pasta</td>\n",
              "      <td>in</td>\n",
              "      <td>definition</td>\n",
              "    </tr>\n",
              "    <tr>\n",
              "      <th>2</th>\n",
              "      <td>how would they say butter in zambia</td>\n",
              "      <td>in</td>\n",
              "      <td>translate</td>\n",
              "    </tr>\n",
              "    <tr>\n",
              "      <th>3</th>\n",
              "      <td>how do you say fast in spanish</td>\n",
              "      <td>in</td>\n",
              "      <td>translate</td>\n",
              "    </tr>\n",
              "    <tr>\n",
              "      <th>4</th>\n",
              "      <td>what's the word for trees in norway</td>\n",
              "      <td>in</td>\n",
              "      <td>travel_suggestion</td>\n",
              "    </tr>\n",
              "    <tr>\n",
              "      <th>...</th>\n",
              "      <td>...</td>\n",
              "      <td>...</td>\n",
              "      <td>...</td>\n",
              "    </tr>\n",
              "    <tr>\n",
              "      <th>5495</th>\n",
              "      <td>find my wallet</td>\n",
              "      <td>in</td>\n",
              "      <td>w2</td>\n",
              "    </tr>\n",
              "    <tr>\n",
              "      <th>5496</th>\n",
              "      <td>can you give me the gps location of harvey</td>\n",
              "      <td>in</td>\n",
              "      <td>current_location</td>\n",
              "    </tr>\n",
              "    <tr>\n",
              "      <th>5497</th>\n",
              "      <td>where's my buddy steve right this second</td>\n",
              "      <td>in</td>\n",
              "      <td>current_location</td>\n",
              "    </tr>\n",
              "    <tr>\n",
              "      <th>5498</th>\n",
              "      <td>locate jenny at her present position</td>\n",
              "      <td>in</td>\n",
              "      <td>restaurant_reservation</td>\n",
              "    </tr>\n",
              "    <tr>\n",
              "      <th>5499</th>\n",
              "      <td>let me know where jim is right now</td>\n",
              "      <td>in</td>\n",
              "      <td>current_location</td>\n",
              "    </tr>\n",
              "  </tbody>\n",
              "</table>\n",
              "<p>5500 rows × 3 columns</p>\n",
              "</div>"
            ],
            "text/plain": [
              "                                           query  ...                intent_y\n",
              "0               how would you say fly in italian  ...               translate\n",
              "1              what's the spanish word for pasta  ...              definition\n",
              "2            how would they say butter in zambia  ...               translate\n",
              "3                 how do you say fast in spanish  ...               translate\n",
              "4            what's the word for trees in norway  ...       travel_suggestion\n",
              "...                                          ...  ...                     ...\n",
              "5495                              find my wallet  ...                      w2\n",
              "5496  can you give me the gps location of harvey  ...        current_location\n",
              "5497    where's my buddy steve right this second  ...        current_location\n",
              "5498        locate jenny at her present position  ...  restaurant_reservation\n",
              "5499          let me know where jim is right now  ...        current_location\n",
              "\n",
              "[5500 rows x 3 columns]"
            ]
          },
          "metadata": {
            "tags": []
          },
          "execution_count": 186
        }
      ]
    },
    {
      "cell_type": "code",
      "metadata": {
        "id": "sN5AXzDylkfx",
        "colab_type": "code",
        "outputId": "8b5a215f-b0c0-494b-f6f8-4c0167c23454",
        "colab": {
          "base_uri": "https://localhost:8080/",
          "height": 419
        }
      },
      "source": [
        "# inscope_test_queries = test[test.label == 'in']\n",
        "# print(inscope_test_queries.shape)\n",
        "test_original = pd.merge(test,inscope_df_full,on='query',how = 'left')\n",
        "test_original = test_original.drop_duplicates(subset=['query'])\n",
        "test_original[\"intent\"].fillna(\"oos\", inplace = True) \n",
        "test_original"
      ],
      "execution_count": 0,
      "outputs": [
        {
          "output_type": "execute_result",
          "data": {
            "text/html": [
              "<div>\n",
              "<style scoped>\n",
              "    .dataframe tbody tr th:only-of-type {\n",
              "        vertical-align: middle;\n",
              "    }\n",
              "\n",
              "    .dataframe tbody tr th {\n",
              "        vertical-align: top;\n",
              "    }\n",
              "\n",
              "    .dataframe thead th {\n",
              "        text-align: right;\n",
              "    }\n",
              "</style>\n",
              "<table border=\"1\" class=\"dataframe\">\n",
              "  <thead>\n",
              "    <tr style=\"text-align: right;\">\n",
              "      <th></th>\n",
              "      <th>query</th>\n",
              "      <th>label</th>\n",
              "      <th>intent</th>\n",
              "    </tr>\n",
              "  </thead>\n",
              "  <tbody>\n",
              "    <tr>\n",
              "      <th>0</th>\n",
              "      <td>how would you say fly in italian</td>\n",
              "      <td>in</td>\n",
              "      <td>translate</td>\n",
              "    </tr>\n",
              "    <tr>\n",
              "      <th>1</th>\n",
              "      <td>what's the spanish word for pasta</td>\n",
              "      <td>in</td>\n",
              "      <td>translate</td>\n",
              "    </tr>\n",
              "    <tr>\n",
              "      <th>2</th>\n",
              "      <td>how would they say butter in zambia</td>\n",
              "      <td>in</td>\n",
              "      <td>translate</td>\n",
              "    </tr>\n",
              "    <tr>\n",
              "      <th>3</th>\n",
              "      <td>how do you say fast in spanish</td>\n",
              "      <td>in</td>\n",
              "      <td>translate</td>\n",
              "    </tr>\n",
              "    <tr>\n",
              "      <th>4</th>\n",
              "      <td>what's the word for trees in norway</td>\n",
              "      <td>in</td>\n",
              "      <td>translate</td>\n",
              "    </tr>\n",
              "    <tr>\n",
              "      <th>...</th>\n",
              "      <td>...</td>\n",
              "      <td>...</td>\n",
              "      <td>...</td>\n",
              "    </tr>\n",
              "    <tr>\n",
              "      <th>5497</th>\n",
              "      <td>find my wallet</td>\n",
              "      <td>oos</td>\n",
              "      <td>oos</td>\n",
              "    </tr>\n",
              "    <tr>\n",
              "      <th>5498</th>\n",
              "      <td>can you give me the gps location of harvey</td>\n",
              "      <td>oos</td>\n",
              "      <td>oos</td>\n",
              "    </tr>\n",
              "    <tr>\n",
              "      <th>5499</th>\n",
              "      <td>where's my buddy steve right this second</td>\n",
              "      <td>oos</td>\n",
              "      <td>oos</td>\n",
              "    </tr>\n",
              "    <tr>\n",
              "      <th>5500</th>\n",
              "      <td>locate jenny at her present position</td>\n",
              "      <td>oos</td>\n",
              "      <td>oos</td>\n",
              "    </tr>\n",
              "    <tr>\n",
              "      <th>5501</th>\n",
              "      <td>let me know where jim is right now</td>\n",
              "      <td>oos</td>\n",
              "      <td>oos</td>\n",
              "    </tr>\n",
              "  </tbody>\n",
              "</table>\n",
              "<p>5500 rows × 3 columns</p>\n",
              "</div>"
            ],
            "text/plain": [
              "                                           query label     intent\n",
              "0               how would you say fly in italian    in  translate\n",
              "1              what's the spanish word for pasta    in  translate\n",
              "2            how would they say butter in zambia    in  translate\n",
              "3                 how do you say fast in spanish    in  translate\n",
              "4            what's the word for trees in norway    in  translate\n",
              "...                                          ...   ...        ...\n",
              "5497                              find my wallet   oos        oos\n",
              "5498  can you give me the gps location of harvey   oos        oos\n",
              "5499    where's my buddy steve right this second   oos        oos\n",
              "5500        locate jenny at her present position   oos        oos\n",
              "5501          let me know where jim is right now   oos        oos\n",
              "\n",
              "[5500 rows x 3 columns]"
            ]
          },
          "metadata": {
            "tags": []
          },
          "execution_count": 187
        }
      ]
    },
    {
      "cell_type": "code",
      "metadata": {
        "id": "0LqzC8CuomHC",
        "colab_type": "code",
        "outputId": "9640d156-c972-4935-f3d6-3539f32f5b50",
        "colab": {
          "base_uri": "https://localhost:8080/",
          "height": 34
        }
      },
      "source": [
        "# Finding In-Scope Accuracies\n",
        "from sklearn.metrics import accuracy_score\n",
        "\n",
        "y_Test = test_original['intent'].values\n",
        "y_test_pred = final_predictions[\"intent_y\"].values\n",
        "\n",
        "boolean_test = (y_Test != 'oos')\n",
        "y_test_inclass = y_Test[y_Test != 'oos']\n",
        "y_test_pred_inclass = [y_test_pred[i] for i in range(len(y_test_pred)) if boolean_test[i]]\n",
        "\n",
        "accuracy_score(y_true = y_test_inclass,y_pred = y_test_pred_inclass)"
      ],
      "execution_count": 0,
      "outputs": [
        {
          "output_type": "execute_result",
          "data": {
            "text/plain": [
              "0.8464444444444444"
            ]
          },
          "metadata": {
            "tags": []
          },
          "execution_count": 188
        }
      ]
    },
    {
      "cell_type": "code",
      "metadata": {
        "id": "Z9D1x5m7vV4O",
        "colab_type": "code",
        "outputId": "93aa484d-c5fb-4ddb-a755-93741a9aa3ee",
        "colab": {
          "base_uri": "https://localhost:8080/",
          "height": 34
        }
      },
      "source": [
        "#Finding Out_of_Scope Recall\n",
        "\n",
        "from collections import Counter\n",
        "\n",
        "true_positives_test = Counter(np.logical_and(y_test_pred == 'oos',y_Test == 'oos'))[True]\n",
        "false_negatives_test = Counter(np.logical_and(y_test_pred != 'oos',y_Test == 'oos'))[True]\n",
        "\n",
        "test_recall = (true_positives_test)/(true_positives_test+false_negatives_test)\n",
        "\n",
        "test_recall"
      ],
      "execution_count": 0,
      "outputs": [
        {
          "output_type": "execute_result",
          "data": {
            "text/plain": [
              "0.123"
            ]
          },
          "metadata": {
            "tags": []
          },
          "execution_count": 189
        }
      ]
    },
    {
      "cell_type": "code",
      "metadata": {
        "id": "j4DXcVexwYC6",
        "colab_type": "code",
        "colab": {}
      },
      "source": [
        ""
      ],
      "execution_count": 0,
      "outputs": []
    }
  ]
}