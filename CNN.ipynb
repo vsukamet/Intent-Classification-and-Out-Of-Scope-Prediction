{
  "nbformat": 4,
  "nbformat_minor": 0,
  "metadata": {
    "colab": {
      "name": "CNN.ipynb",
      "provenance": []
    },
    "kernelspec": {
      "name": "python3",
      "display_name": "Python 3"
    },
    "accelerator": "GPU"
  },
  "cells": [
    {
      "cell_type": "code",
      "metadata": {
        "id": "VIVqQH-TDn8d",
        "colab_type": "code",
        "colab": {}
      },
      "source": [
        "import os\n",
        "import sys\n",
        "import json\n",
        "import requests\n",
        "import numpy as np\n",
        "import pandas as pd\n",
        "import matplotlib.pyplot as plt\n",
        "%matplotlib inline\n",
        "\n",
        "from keras.preprocessing.text import Tokenizer\n",
        "from keras.preprocessing.sequence import pad_sequences\n",
        "from keras.utils import to_categorical\n",
        "from keras.layers import Dense, Input, Flatten\n",
        "from keras.layers import Reshape, Dropout, Concatenate\n",
        "from keras.layers import Conv2D, MaxPool2D, Embedding\n",
        "from keras.models import Model\n",
        "\n",
        "BASE_DIR = 'C:/Users/username/Documents/chatbot/textcnn'\n",
        "GLOVE_DIR = BASE_DIR + '/glove.6B/'\n",
        "TEXT_DATA_DIR = BASE_DIR + '/data/processed_data'\n",
        "MAX_SEQUENCE_LENGTH = 150 # Maximum number of words in a sentence\n",
        "MAX_NB_WORDS = 200000 # Vocabulary size\n",
        "EMBEDDING_DIM = 100 # Dimensions of Glove word vectors \n",
        "VALIDATION_SPLIT = 0.20"
      ],
      "execution_count": 0,
      "outputs": []
    },
    {
      "cell_type": "code",
      "metadata": {
        "id": "dVhgXJHFO0S4",
        "colab_type": "code",
        "colab": {}
      },
      "source": [
        "df = json.loads(requests.get('https://raw.githubusercontent.com/clinc/oos-eval/master/data/data_full.json').text)"
      ],
      "execution_count": 0,
      "outputs": []
    },
    {
      "cell_type": "code",
      "metadata": {
        "id": "5a1kolvPO2ph",
        "colab_type": "code",
        "colab": {}
      },
      "source": [
        "''' Getting Training data '''\n",
        "inscope_train = pd.DataFrame(df['train'],columns=['query','intent'])\n",
        "oss_train = pd.DataFrame(df['oos_train'],columns=['query','intent'])\n",
        "\n",
        "''' Getting Validation data '''\n",
        "inscope_val = pd.DataFrame(df['val'],columns=['query','intent'])\n",
        "oss_val = pd.DataFrame(df['oos_val'],columns=['query','intent'])\n",
        "\n",
        "''' Getting Test data '''\n",
        "inscope_test = pd.DataFrame(df['test'],columns=['query','intent'])\n",
        "oss_test = pd.DataFrame(df['oos_test'],columns=['query','intent'])\n",
        "\n",
        "\n",
        "train_df = pd.concat([inscope_train,oss_train])\n",
        "val_df = pd.concat([inscope_val,oss_val])\n",
        "test_df = pd.concat([inscope_test,oss_test])"
      ],
      "execution_count": 0,
      "outputs": []
    },
    {
      "cell_type": "code",
      "metadata": {
        "id": "dz7_hTYsO6Mb",
        "colab_type": "code",
        "colab": {}
      },
      "source": [
        "train_df = train_df.append(val_df).reset_index(drop=True)"
      ],
      "execution_count": 0,
      "outputs": []
    },
    {
      "cell_type": "code",
      "metadata": {
        "id": "dOHSUDL-O_vK",
        "colab_type": "code",
        "outputId": "653e966d-6474-44fb-8c31-ddd09401abbc",
        "colab": {
          "base_uri": "https://localhost:8080/",
          "height": 202
        }
      },
      "source": [
        "train_df.head()"
      ],
      "execution_count": 57,
      "outputs": [
        {
          "output_type": "execute_result",
          "data": {
            "text/html": [
              "<div>\n",
              "<style scoped>\n",
              "    .dataframe tbody tr th:only-of-type {\n",
              "        vertical-align: middle;\n",
              "    }\n",
              "\n",
              "    .dataframe tbody tr th {\n",
              "        vertical-align: top;\n",
              "    }\n",
              "\n",
              "    .dataframe thead th {\n",
              "        text-align: right;\n",
              "    }\n",
              "</style>\n",
              "<table border=\"1\" class=\"dataframe\">\n",
              "  <thead>\n",
              "    <tr style=\"text-align: right;\">\n",
              "      <th></th>\n",
              "      <th>query</th>\n",
              "      <th>intent</th>\n",
              "    </tr>\n",
              "  </thead>\n",
              "  <tbody>\n",
              "    <tr>\n",
              "      <th>0</th>\n",
              "      <td>what expression would i use to say i love you ...</td>\n",
              "      <td>translate</td>\n",
              "    </tr>\n",
              "    <tr>\n",
              "      <th>1</th>\n",
              "      <td>can you tell me how to say 'i do not speak muc...</td>\n",
              "      <td>translate</td>\n",
              "    </tr>\n",
              "    <tr>\n",
              "      <th>2</th>\n",
              "      <td>what is the equivalent of, 'life is good' in f...</td>\n",
              "      <td>translate</td>\n",
              "    </tr>\n",
              "    <tr>\n",
              "      <th>3</th>\n",
              "      <td>tell me how to say, 'it is a beautiful morning...</td>\n",
              "      <td>translate</td>\n",
              "    </tr>\n",
              "    <tr>\n",
              "      <th>4</th>\n",
              "      <td>if i were mongolian, how would i say that i am...</td>\n",
              "      <td>translate</td>\n",
              "    </tr>\n",
              "  </tbody>\n",
              "</table>\n",
              "</div>"
            ],
            "text/plain": [
              "                                               query     intent\n",
              "0  what expression would i use to say i love you ...  translate\n",
              "1  can you tell me how to say 'i do not speak muc...  translate\n",
              "2  what is the equivalent of, 'life is good' in f...  translate\n",
              "3  tell me how to say, 'it is a beautiful morning...  translate\n",
              "4  if i were mongolian, how would i say that i am...  translate"
            ]
          },
          "metadata": {
            "tags": []
          },
          "execution_count": 57
        }
      ]
    },
    {
      "cell_type": "code",
      "metadata": {
        "id": "X6VzOkD4Dtjn",
        "colab_type": "code",
        "outputId": "0fb75659-2039-4df4-8ce8-5d8710083160",
        "colab": {
          "base_uri": "https://localhost:8080/",
          "height": 55
        }
      },
      "source": [
        "# texts = np.load(open('data/train_text.npy', 'rb')).tolist()\n",
        "# labels = np.load(open('data/train_label.npy', 'rb')).tolist()\n",
        "texts = train_df['query'].to_numpy()\n",
        "labels = train_df['intent'].to_numpy()\n",
        "\n",
        "# test_texts = np.load(open('data/test_text.npy', 'rb')).tolist()\n",
        "# test_labels = np.load(open('data/test_label.npy', 'rb')).tolist()\n",
        "test_texts = test_df['query'].to_numpy()\n",
        "test_labels = test_df['intent'].to_numpy()\n",
        "\n",
        "\n",
        "# Label Encoding: converting text labels into the integers\n",
        "from sklearn import preprocessing\n",
        "\n",
        "train_le = preprocessing.LabelEncoder()\n",
        "train_le.fit(labels)\n",
        "\n",
        "from sklearn.externals import joblib #Saving label encoder, we will need it later\n",
        "joblib.dump(train_le, 'C:\\\\Users\\\\varun\\\\Downloads\\\\label_encoder.pkl') \n",
        "\n",
        "labels = train_le.transform(labels)\n",
        "test_labels = train_le.transform(test_labels)\n",
        "\n",
        "label_dict = dict(zip(list(train_le.classes_), train_le.transform(list(train_le.classes_))))\n",
        "print(label_dict)"
      ],
      "execution_count": 58,
      "outputs": [
        {
          "output_type": "stream",
          "text": [
            "{'accept_reservations': 0, 'account_blocked': 1, 'alarm': 2, 'application_status': 3, 'apr': 4, 'are_you_a_bot': 5, 'balance': 6, 'bill_balance': 7, 'bill_due': 8, 'book_flight': 9, 'book_hotel': 10, 'calculator': 11, 'calendar': 12, 'calendar_update': 13, 'calories': 14, 'cancel': 15, 'cancel_reservation': 16, 'car_rental': 17, 'card_declined': 18, 'carry_on': 19, 'change_accent': 20, 'change_ai_name': 21, 'change_language': 22, 'change_speed': 23, 'change_user_name': 24, 'change_volume': 25, 'confirm_reservation': 26, 'cook_time': 27, 'credit_limit': 28, 'credit_limit_change': 29, 'credit_score': 30, 'current_location': 31, 'damaged_card': 32, 'date': 33, 'definition': 34, 'direct_deposit': 35, 'directions': 36, 'distance': 37, 'do_you_have_pets': 38, 'exchange_rate': 39, 'expiration_date': 40, 'find_phone': 41, 'flight_status': 42, 'flip_coin': 43, 'food_last': 44, 'freeze_account': 45, 'fun_fact': 46, 'gas': 47, 'gas_type': 48, 'goodbye': 49, 'greeting': 50, 'how_busy': 51, 'how_old_are_you': 52, 'improve_credit_score': 53, 'income': 54, 'ingredient_substitution': 55, 'ingredients_list': 56, 'insurance': 57, 'insurance_change': 58, 'interest_rate': 59, 'international_fees': 60, 'international_visa': 61, 'jump_start': 62, 'last_maintenance': 63, 'lost_luggage': 64, 'make_call': 65, 'maybe': 66, 'meal_suggestion': 67, 'meaning_of_life': 68, 'measurement_conversion': 69, 'meeting_schedule': 70, 'min_payment': 71, 'mpg': 72, 'new_card': 73, 'next_holiday': 74, 'next_song': 75, 'no': 76, 'nutrition_info': 77, 'oil_change_how': 78, 'oil_change_when': 79, 'oos': 80, 'order': 81, 'order_checks': 82, 'order_status': 83, 'pay_bill': 84, 'payday': 85, 'pin_change': 86, 'play_music': 87, 'plug_type': 88, 'pto_balance': 89, 'pto_request': 90, 'pto_request_status': 91, 'pto_used': 92, 'recipe': 93, 'redeem_rewards': 94, 'reminder': 95, 'reminder_update': 96, 'repeat': 97, 'replacement_card_duration': 98, 'report_fraud': 99, 'report_lost_card': 100, 'reset_settings': 101, 'restaurant_reservation': 102, 'restaurant_reviews': 103, 'restaurant_suggestion': 104, 'rewards_balance': 105, 'roll_dice': 106, 'rollover_401k': 107, 'routing': 108, 'schedule_maintenance': 109, 'schedule_meeting': 110, 'share_location': 111, 'shopping_list': 112, 'shopping_list_update': 113, 'smart_home': 114, 'spelling': 115, 'spending_history': 116, 'sync_device': 117, 'taxes': 118, 'tell_joke': 119, 'text': 120, 'thank_you': 121, 'time': 122, 'timer': 123, 'timezone': 124, 'tire_change': 125, 'tire_pressure': 126, 'todo_list': 127, 'todo_list_update': 128, 'traffic': 129, 'transactions': 130, 'transfer': 131, 'translate': 132, 'travel_alert': 133, 'travel_notification': 134, 'travel_suggestion': 135, 'uber': 136, 'update_playlist': 137, 'user_name': 138, 'vaccines': 139, 'w2': 140, 'weather': 141, 'what_are_your_hobbies': 142, 'what_can_i_ask_you': 143, 'what_is_your_name': 144, 'what_song': 145, 'where_are_you_from': 146, 'whisper_mode': 147, 'who_do_you_work_for': 148, 'who_made_you': 149, 'yes': 150}\n"
          ],
          "name": "stdout"
        }
      ]
    },
    {
      "cell_type": "code",
      "metadata": {
        "id": "K0Kvf_gLDxvh",
        "colab_type": "code",
        "outputId": "0c44950f-f74e-4cc2-c729-8fbe3cb28e1e",
        "colab": {
          "base_uri": "https://localhost:8080/",
          "height": 87
        }
      },
      "source": [
        "\n",
        "\n",
        "tokenizer = Tokenizer(num_words=MAX_NB_WORDS)\n",
        "tokenizer.fit_on_texts(texts)\n",
        "sequences = tokenizer.texts_to_sequences(texts)\n",
        "\n",
        "word_index = tokenizer.word_index\n",
        "print('Found %s unique tokens.' % len(word_index))\n",
        "\n",
        "\n",
        "data = pad_sequences(sequences, maxlen=MAX_SEQUENCE_LENGTH)\n",
        "\n",
        "labels = to_categorical(np.asarray(labels))\n",
        "print('Shape of data tensor:', data.shape)\n",
        "print('Shape of label tensor:', labels.shape)\n",
        "\n",
        "# split the data into a training set and a validation set\n",
        "indices = np.arange(data.shape[0])\n",
        "np.random.shuffle(indices)\n",
        "data = data[indices]\n",
        "labels = labels[indices]\n",
        "num_validation_samples = int(VALIDATION_SPLIT * data.shape[0])\n",
        "\n",
        "x_train = data[:-num_validation_samples]\n",
        "y_train = labels[:-num_validation_samples]\n",
        "x_val = data[-num_validation_samples:]\n",
        "y_val = labels[-num_validation_samples:]\n",
        "\n",
        "print('Preparing embedding matrix.')"
      ],
      "execution_count": 59,
      "outputs": [
        {
          "output_type": "stream",
          "text": [
            "Found 5981 unique tokens.\n",
            "Shape of data tensor: (18200, 150)\n",
            "Shape of label tensor: (18200, 151)\n",
            "Preparing embedding matrix.\n"
          ],
          "name": "stdout"
        }
      ]
    },
    {
      "cell_type": "code",
      "metadata": {
        "id": "94ItLc2kD1jd",
        "colab_type": "code",
        "outputId": "ac2f0819-e476-4904-ef41-b0f39d020e9b",
        "colab": {
          "base_uri": "https://localhost:8080/",
          "height": 52
        }
      },
      "source": [
        "print('Indexing word vectors.')\n",
        "\n",
        "# GLOVE_DIR = 'D:\\\\nlpproject\\\\CNN_Intent_Classification-master\\\\CNN_Intent_Classification-master\\\\glove.6B'\n",
        "\n",
        "# from google.colab import files\n",
        "# uploaded = files.upload()\n",
        "# file_name = \"hello.txt\"\n",
        "# f = uploaded[file_name].decode(\"utf-8\").split(\"\\r\\n\")\n",
        "# for i in range(len(f)):\n",
        "#   f[i] = f[i].split(\" \")\n",
        "\n",
        "embeddings_index = {}\n",
        "f = open(\"hello.txt\")\n",
        "for line in f:\n",
        "    values = line.split()\n",
        "    word = values[0]\n",
        "    coefs = np.asarray(values[1:], dtype='float32')\n",
        "    embeddings_index[word] = coefs\n",
        "f.close()\n",
        "\n",
        "print('Found %s word vectors.' % len(embeddings_index))"
      ],
      "execution_count": 60,
      "outputs": [
        {
          "output_type": "stream",
          "text": [
            "Indexing word vectors.\n",
            "Found 400000 word vectors.\n"
          ],
          "name": "stdout"
        }
      ]
    },
    {
      "cell_type": "code",
      "metadata": {
        "id": "KolPL3AKD4i-",
        "colab_type": "code",
        "colab": {}
      },
      "source": [
        "\n",
        "num_words = min(MAX_NB_WORDS, len(word_index))\n",
        "embedding_matrix = np.zeros((len(word_index) + 1, EMBEDDING_DIM))\n",
        "for word, i in word_index.items():\n",
        "    embedding_vector = embeddings_index.get(word)\n",
        "    if embedding_vector is not None:\n",
        "        # words not found in embedding index will be all-zeros.\n",
        "        embedding_matrix[i] = embedding_vector"
      ],
      "execution_count": 0,
      "outputs": []
    },
    {
      "cell_type": "code",
      "metadata": {
        "id": "5pnvI9XLD619",
        "colab_type": "code",
        "colab": {
          "base_uri": "https://localhost:8080/",
          "height": 696
        },
        "outputId": "e1d5924f-8f66-4e45-ac49-5bcdd38f3538"
      },
      "source": [
        "filter_sizes = [2,3,5]\n",
        "num_filters = 200\n",
        "drop = 0.6\n",
        "\n",
        "print(\"Creating Model...\")\n",
        "inputs = Input(shape=(MAX_SEQUENCE_LENGTH,), dtype='int32')\n",
        "embedding = Embedding(input_dim=len(word_index) + 1, output_dim=EMBEDDING_DIM, weights=[embedding_matrix],\n",
        "                      input_length=MAX_SEQUENCE_LENGTH, trainable=False)(inputs)\n",
        "reshape = Reshape((MAX_SEQUENCE_LENGTH,EMBEDDING_DIM,1))(embedding)\n",
        "\n",
        "conv_0 = Conv2D(num_filters, kernel_size=(filter_sizes[0], EMBEDDING_DIM), padding='valid', kernel_initializer='normal', activation='relu')(reshape)\n",
        "conv_1 = Conv2D(num_filters, kernel_size=(filter_sizes[1], EMBEDDING_DIM), padding='valid', kernel_initializer='normal', activation='relu')(reshape)\n",
        "conv_2 = Conv2D(num_filters, kernel_size=(filter_sizes[2], EMBEDDING_DIM), padding='valid', kernel_initializer='normal', activation='relu')(reshape)\n",
        "\n",
        "maxpool_0 = MaxPool2D(pool_size=(MAX_SEQUENCE_LENGTH - filter_sizes[0] + 1, 1), strides=(1,1), padding='valid')(conv_0)\n",
        "maxpool_1 = MaxPool2D(pool_size=(MAX_SEQUENCE_LENGTH - filter_sizes[1] + 1, 1), strides=(1,1), padding='valid')(conv_1)\n",
        "maxpool_2 = MaxPool2D(pool_size=(MAX_SEQUENCE_LENGTH - filter_sizes[2] + 1, 1), strides=(1,1), padding='valid')(conv_2)\n",
        "\n",
        "concatenated_tensor = Concatenate(axis=1)([maxpool_0, maxpool_1, maxpool_2])\n",
        "flatten = Flatten()(concatenated_tensor)\n",
        "dropout = Dropout(drop)(flatten)\n",
        "preds = Dense(len(label_dict), activation='softmax')(dropout)\n",
        "\n",
        "# this creates a model that includes inputs and outputs\n",
        "model = Model(inputs=inputs, outputs=preds)\n",
        "\n",
        "model.compile(loss='categorical_crossentropy',\n",
        "              optimizer='adam',\n",
        "              metrics=['acc'])\n",
        "\n",
        "model.summary()"
      ],
      "execution_count": 62,
      "outputs": [
        {
          "output_type": "stream",
          "text": [
            "Creating Model...\n",
            "WARNING:tensorflow:Large dropout rate: 0.6 (>0.5). In TensorFlow 2.x, dropout() uses dropout rate instead of keep_prob. Please ensure that this is intended.\n",
            "Model: \"model_3\"\n",
            "__________________________________________________________________________________________________\n",
            "Layer (type)                    Output Shape         Param #     Connected to                     \n",
            "==================================================================================================\n",
            "input_3 (InputLayer)            (None, 150)          0                                            \n",
            "__________________________________________________________________________________________________\n",
            "embedding_3 (Embedding)         (None, 150, 100)     598200      input_3[0][0]                    \n",
            "__________________________________________________________________________________________________\n",
            "reshape_3 (Reshape)             (None, 150, 100, 1)  0           embedding_3[0][0]                \n",
            "__________________________________________________________________________________________________\n",
            "conv2d_7 (Conv2D)               (None, 149, 1, 200)  40200       reshape_3[0][0]                  \n",
            "__________________________________________________________________________________________________\n",
            "conv2d_8 (Conv2D)               (None, 148, 1, 200)  60200       reshape_3[0][0]                  \n",
            "__________________________________________________________________________________________________\n",
            "conv2d_9 (Conv2D)               (None, 146, 1, 200)  100200      reshape_3[0][0]                  \n",
            "__________________________________________________________________________________________________\n",
            "max_pooling2d_7 (MaxPooling2D)  (None, 1, 1, 200)    0           conv2d_7[0][0]                   \n",
            "__________________________________________________________________________________________________\n",
            "max_pooling2d_8 (MaxPooling2D)  (None, 1, 1, 200)    0           conv2d_8[0][0]                   \n",
            "__________________________________________________________________________________________________\n",
            "max_pooling2d_9 (MaxPooling2D)  (None, 1, 1, 200)    0           conv2d_9[0][0]                   \n",
            "__________________________________________________________________________________________________\n",
            "concatenate_3 (Concatenate)     (None, 3, 1, 200)    0           max_pooling2d_7[0][0]            \n",
            "                                                                 max_pooling2d_8[0][0]            \n",
            "                                                                 max_pooling2d_9[0][0]            \n",
            "__________________________________________________________________________________________________\n",
            "flatten_3 (Flatten)             (None, 600)          0           concatenate_3[0][0]              \n",
            "__________________________________________________________________________________________________\n",
            "dropout_3 (Dropout)             (None, 600)          0           flatten_3[0][0]                  \n",
            "__________________________________________________________________________________________________\n",
            "dense_3 (Dense)                 (None, 151)          90751       dropout_3[0][0]                  \n",
            "==================================================================================================\n",
            "Total params: 889,551\n",
            "Trainable params: 291,351\n",
            "Non-trainable params: 598,200\n",
            "__________________________________________________________________________________________________\n"
          ],
          "name": "stdout"
        }
      ]
    },
    {
      "cell_type": "code",
      "metadata": {
        "id": "oacBn9oyEFoq",
        "colab_type": "code",
        "colab": {
          "base_uri": "https://localhost:8080/",
          "height": 1000
        },
        "outputId": "80095320-b8f7-49a3-f8ab-f560ba682b12"
      },
      "source": [
        "history = model.fit(x_train, y_train,\n",
        "          batch_size=16,\n",
        "          epochs=50,\n",
        "          validation_data=(x_val, y_val))"
      ],
      "execution_count": 63,
      "outputs": [
        {
          "output_type": "stream",
          "text": [
            "Train on 14560 samples, validate on 3640 samples\n",
            "Epoch 1/50\n",
            "14560/14560 [==============================] - 6s 420us/step - loss: 2.5648 - acc: 0.4601 - val_loss: 0.7775 - val_acc: 0.8357\n",
            "Epoch 2/50\n",
            "14560/14560 [==============================] - 6s 381us/step - loss: 0.8073 - acc: 0.7948 - val_loss: 0.4633 - val_acc: 0.8843\n",
            "Epoch 3/50\n",
            "14560/14560 [==============================] - 6s 381us/step - loss: 0.5294 - acc: 0.8572 - val_loss: 0.3672 - val_acc: 0.9074\n",
            "Epoch 4/50\n",
            "14560/14560 [==============================] - 6s 381us/step - loss: 0.4134 - acc: 0.8856 - val_loss: 0.3018 - val_acc: 0.9181\n",
            "Epoch 5/50\n",
            "14560/14560 [==============================] - 6s 382us/step - loss: 0.3377 - acc: 0.9043 - val_loss: 0.2964 - val_acc: 0.9203\n",
            "Epoch 6/50\n",
            "14560/14560 [==============================] - 6s 381us/step - loss: 0.2772 - acc: 0.9200 - val_loss: 0.2808 - val_acc: 0.9239\n",
            "Epoch 7/50\n",
            "14560/14560 [==============================] - 6s 383us/step - loss: 0.2525 - acc: 0.9268 - val_loss: 0.2608 - val_acc: 0.9302\n",
            "Epoch 8/50\n",
            "14560/14560 [==============================] - 6s 382us/step - loss: 0.2298 - acc: 0.9332 - val_loss: 0.2731 - val_acc: 0.9264\n",
            "Epoch 9/50\n",
            "14560/14560 [==============================] - 6s 383us/step - loss: 0.2228 - acc: 0.9330 - val_loss: 0.2766 - val_acc: 0.9250\n",
            "Epoch 10/50\n",
            "14560/14560 [==============================] - 6s 385us/step - loss: 0.1949 - acc: 0.9414 - val_loss: 0.2529 - val_acc: 0.9335\n",
            "Epoch 11/50\n",
            "14560/14560 [==============================] - 6s 383us/step - loss: 0.1857 - acc: 0.9443 - val_loss: 0.2504 - val_acc: 0.9327\n",
            "Epoch 12/50\n",
            "14560/14560 [==============================] - 6s 380us/step - loss: 0.1622 - acc: 0.9518 - val_loss: 0.2720 - val_acc: 0.9266\n",
            "Epoch 13/50\n",
            "14560/14560 [==============================] - 6s 379us/step - loss: 0.1639 - acc: 0.9487 - val_loss: 0.2572 - val_acc: 0.9352\n",
            "Epoch 14/50\n",
            "14560/14560 [==============================] - 6s 380us/step - loss: 0.1556 - acc: 0.9528 - val_loss: 0.2632 - val_acc: 0.9310\n",
            "Epoch 15/50\n",
            "14560/14560 [==============================] - 6s 379us/step - loss: 0.1487 - acc: 0.9565 - val_loss: 0.2540 - val_acc: 0.9396\n",
            "Epoch 16/50\n",
            "14560/14560 [==============================] - 6s 382us/step - loss: 0.1432 - acc: 0.9550 - val_loss: 0.2841 - val_acc: 0.9338\n",
            "Epoch 17/50\n",
            "14560/14560 [==============================] - 6s 382us/step - loss: 0.1439 - acc: 0.9562 - val_loss: 0.2568 - val_acc: 0.9393\n",
            "Epoch 18/50\n",
            "14560/14560 [==============================] - 6s 380us/step - loss: 0.1350 - acc: 0.9602 - val_loss: 0.2684 - val_acc: 0.9393\n",
            "Epoch 19/50\n",
            "14560/14560 [==============================] - 6s 381us/step - loss: 0.1301 - acc: 0.9614 - val_loss: 0.2840 - val_acc: 0.9341\n",
            "Epoch 20/50\n",
            "14560/14560 [==============================] - 6s 381us/step - loss: 0.1213 - acc: 0.9655 - val_loss: 0.2736 - val_acc: 0.9396\n",
            "Epoch 21/50\n",
            "14560/14560 [==============================] - 6s 382us/step - loss: 0.1195 - acc: 0.9636 - val_loss: 0.2731 - val_acc: 0.9376\n",
            "Epoch 22/50\n",
            "14560/14560 [==============================] - 6s 395us/step - loss: 0.1212 - acc: 0.9633 - val_loss: 0.2884 - val_acc: 0.9382\n",
            "Epoch 23/50\n",
            "14560/14560 [==============================] - 6s 392us/step - loss: 0.1210 - acc: 0.9643 - val_loss: 0.2834 - val_acc: 0.9437\n",
            "Epoch 24/50\n",
            "14560/14560 [==============================] - 6s 383us/step - loss: 0.1201 - acc: 0.9644 - val_loss: 0.3058 - val_acc: 0.9371\n",
            "Epoch 25/50\n",
            "14560/14560 [==============================] - 6s 385us/step - loss: 0.1163 - acc: 0.9664 - val_loss: 0.2859 - val_acc: 0.9404\n",
            "Epoch 26/50\n",
            "14560/14560 [==============================] - 6s 382us/step - loss: 0.1088 - acc: 0.9682 - val_loss: 0.2816 - val_acc: 0.9440\n",
            "Epoch 27/50\n",
            "14560/14560 [==============================] - 6s 379us/step - loss: 0.1125 - acc: 0.9672 - val_loss: 0.3089 - val_acc: 0.9376\n",
            "Epoch 28/50\n",
            "14560/14560 [==============================] - 6s 380us/step - loss: 0.1106 - acc: 0.9689 - val_loss: 0.2932 - val_acc: 0.9407\n",
            "Epoch 29/50\n",
            "14560/14560 [==============================] - 6s 383us/step - loss: 0.1036 - acc: 0.9701 - val_loss: 0.2934 - val_acc: 0.9409\n",
            "Epoch 30/50\n",
            "14560/14560 [==============================] - 6s 381us/step - loss: 0.1039 - acc: 0.9690 - val_loss: 0.2915 - val_acc: 0.9429\n",
            "Epoch 31/50\n",
            "14560/14560 [==============================] - 6s 379us/step - loss: 0.0985 - acc: 0.9703 - val_loss: 0.3187 - val_acc: 0.9385\n",
            "Epoch 32/50\n",
            "14560/14560 [==============================] - 6s 382us/step - loss: 0.1054 - acc: 0.9696 - val_loss: 0.3231 - val_acc: 0.9407\n",
            "Epoch 33/50\n",
            "14560/14560 [==============================] - 5s 378us/step - loss: 0.0966 - acc: 0.9713 - val_loss: 0.3146 - val_acc: 0.9379\n",
            "Epoch 34/50\n",
            "14560/14560 [==============================] - 6s 384us/step - loss: 0.0952 - acc: 0.9720 - val_loss: 0.3137 - val_acc: 0.9385\n",
            "Epoch 35/50\n",
            "14560/14560 [==============================] - 6s 385us/step - loss: 0.0966 - acc: 0.9718 - val_loss: 0.3476 - val_acc: 0.9354\n",
            "Epoch 36/50\n",
            "14560/14560 [==============================] - 6s 384us/step - loss: 0.0979 - acc: 0.9705 - val_loss: 0.3197 - val_acc: 0.9407\n",
            "Epoch 37/50\n",
            "14560/14560 [==============================] - 6s 382us/step - loss: 0.0957 - acc: 0.9720 - val_loss: 0.3235 - val_acc: 0.9387\n",
            "Epoch 38/50\n",
            "14560/14560 [==============================] - 6s 385us/step - loss: 0.1010 - acc: 0.9713 - val_loss: 0.3321 - val_acc: 0.9393\n",
            "Epoch 39/50\n",
            "14560/14560 [==============================] - 6s 388us/step - loss: 0.0946 - acc: 0.9738 - val_loss: 0.3279 - val_acc: 0.9442\n",
            "Epoch 40/50\n",
            "14560/14560 [==============================] - 6s 382us/step - loss: 0.1003 - acc: 0.9723 - val_loss: 0.3493 - val_acc: 0.9390\n",
            "Epoch 41/50\n",
            "14560/14560 [==============================] - 6s 384us/step - loss: 0.0949 - acc: 0.9736 - val_loss: 0.3380 - val_acc: 0.9423\n",
            "Epoch 42/50\n",
            "14560/14560 [==============================] - 6s 382us/step - loss: 0.0981 - acc: 0.9736 - val_loss: 0.3342 - val_acc: 0.9434\n",
            "Epoch 43/50\n",
            "14560/14560 [==============================] - 6s 391us/step - loss: 0.0815 - acc: 0.9769 - val_loss: 0.3266 - val_acc: 0.9440\n",
            "Epoch 44/50\n",
            "14560/14560 [==============================] - 6s 379us/step - loss: 0.0985 - acc: 0.9729 - val_loss: 0.3205 - val_acc: 0.9415\n",
            "Epoch 45/50\n",
            "14560/14560 [==============================] - 6s 381us/step - loss: 0.0887 - acc: 0.9760 - val_loss: 0.3292 - val_acc: 0.9437\n",
            "Epoch 46/50\n",
            "14560/14560 [==============================] - 6s 380us/step - loss: 0.0810 - acc: 0.9758 - val_loss: 0.3483 - val_acc: 0.9434\n",
            "Epoch 47/50\n",
            "14560/14560 [==============================] - 6s 381us/step - loss: 0.0934 - acc: 0.9755 - val_loss: 0.3381 - val_acc: 0.9420\n",
            "Epoch 48/50\n",
            "14560/14560 [==============================] - 6s 381us/step - loss: 0.0937 - acc: 0.9756 - val_loss: 0.3276 - val_acc: 0.9423\n",
            "Epoch 49/50\n",
            "14560/14560 [==============================] - 6s 379us/step - loss: 0.0866 - acc: 0.9738 - val_loss: 0.3561 - val_acc: 0.9390\n",
            "Epoch 50/50\n",
            "14560/14560 [==============================] - 6s 383us/step - loss: 0.0997 - acc: 0.9739 - val_loss: 0.3575 - val_acc: 0.9385\n"
          ],
          "name": "stdout"
        }
      ]
    },
    {
      "cell_type": "code",
      "metadata": {
        "id": "xFrmn4ibEIBs",
        "colab_type": "code",
        "colab": {
          "base_uri": "https://localhost:8080/",
          "height": 573
        },
        "outputId": "0a4e0114-d086-4368-e814-f2864d12e2a5"
      },
      "source": [
        "# summarize history for accuracy\n",
        "plt.plot(history.history['acc'])\n",
        "plt.plot(history.history['val_acc'])\n",
        "plt.title('model accuracy')\n",
        "plt.ylabel('accuracy')\n",
        "plt.xlabel('epoch')\n",
        "plt.legend(['train', 'test'], loc='lower right')\n",
        "plt.show()\n",
        "# summarize history for loss\n",
        "plt.plot(history.history['loss'])\n",
        "plt.plot(history.history['val_loss'])\n",
        "plt.title('model loss')\n",
        "plt.ylabel('loss')\n",
        "plt.xlabel('epoch')\n",
        "plt.legend(['train', 'test'], loc='upper right')\n",
        "plt.show()"
      ],
      "execution_count": 64,
      "outputs": [
        {
          "output_type": "display_data",
          "data": {
            "image/png": "[encoded data removed]",
            "text/plain": [
              "<Figure size 432x288 with 1 Axes>"
            ]
          },
          "metadata": {
            "tags": []
          }
        },
        {
          "output_type": "display_data",
          "data": {
            "image/png": "[encoded data removed]",
            "text/plain": [
              "<Figure size 432x288 with 1 Axes>"
            ]
          },
          "metadata": {
            "tags": []
          }
        }
      ]
    },
    {
      "cell_type": "code",
      "metadata": {
        "id": "c8GmBxuFEKU-",
        "colab_type": "code",
        "colab": {}
      },
      "source": [
        "# Processing text to be compatible with model input\n",
        "\n",
        "test_sequences = tokenizer.texts_to_sequences(test_texts)\n",
        "test_input = pad_sequences(test_sequences, maxlen=MAX_SEQUENCE_LENGTH)\n",
        "\n",
        "# Get predictions\n",
        "test_predictions_probas = model.predict(test_input)\n",
        "test_predictions = test_predictions_probas.argmax(axis=-1)"
      ],
      "execution_count": 0,
      "outputs": []
    },
    {
      "cell_type": "code",
      "metadata": {
        "id": "SDxkQUUnEM5F",
        "colab_type": "code",
        "colab": {
          "base_uri": "https://localhost:8080/",
          "height": 1000
        },
        "outputId": "2a4e9953-58b3-4d85-c490-8bb317d23166"
      },
      "source": [
        "from sklearn.metrics import classification_report\n",
        "\n",
        "test_intent_predictions = train_le.inverse_transform(test_predictions)\n",
        "test_intent_original = train_le.inverse_transform(test_labels)\n",
        "\n",
        "print('accuracy: ', sum(test_intent_predictions == test_intent_original) / len(test_labels))\n",
        "print(\"Precision, Recall and F1-Score:\\n\\n\", classification_report(test_intent_original, test_intent_predictions))"
      ],
      "execution_count": 66,
      "outputs": [
        {
          "output_type": "stream",
          "text": [
            "accuracy:  0.7825454545454545\n",
            "Precision, Recall and F1-Score:\n",
            "\n",
            "                            precision    recall  f1-score   support\n",
            "\n",
            "      accept_reservations       0.79      0.90      0.84        30\n",
            "          account_blocked       0.81      0.83      0.82        30\n",
            "                    alarm       0.94      0.97      0.95        30\n",
            "       application_status       0.86      1.00      0.92        30\n",
            "                      apr       0.94      0.97      0.95        30\n",
            "            are_you_a_bot       0.88      1.00      0.94        30\n",
            "                  balance       0.60      0.97      0.74        30\n",
            "             bill_balance       0.55      0.77      0.64        30\n",
            "                 bill_due       0.87      0.90      0.89        30\n",
            "              book_flight       0.91      1.00      0.95        30\n",
            "               book_hotel       0.75      1.00      0.86        30\n",
            "               calculator       0.69      0.83      0.76        30\n",
            "                 calendar       0.76      0.87      0.81        30\n",
            "          calendar_update       0.87      0.90      0.89        30\n",
            "                 calories       0.91      0.97      0.94        30\n",
            "                   cancel       0.70      0.87      0.78        30\n",
            "       cancel_reservation       0.94      1.00      0.97        30\n",
            "               car_rental       0.77      1.00      0.87        30\n",
            "            card_declined       0.96      0.80      0.87        30\n",
            "                 carry_on       0.94      1.00      0.97        30\n",
            "            change_accent       0.88      0.93      0.90        30\n",
            "           change_ai_name       0.81      0.83      0.82        30\n",
            "          change_language       0.75      1.00      0.86        30\n",
            "             change_speed       0.85      0.97      0.91        30\n",
            "         change_user_name       0.64      0.83      0.72        30\n",
            "            change_volume       0.78      0.83      0.81        30\n",
            "      confirm_reservation       0.86      1.00      0.92        30\n",
            "                cook_time       0.84      0.90      0.87        30\n",
            "             credit_limit       0.87      0.87      0.87        30\n",
            "      credit_limit_change       0.85      0.93      0.89        30\n",
            "             credit_score       0.85      0.93      0.89        30\n",
            "         current_location       0.53      0.97      0.68        30\n",
            "             damaged_card       0.73      0.90      0.81        30\n",
            "                     date       0.67      0.93      0.78        30\n",
            "               definition       0.68      0.70      0.69        30\n",
            "           direct_deposit       0.77      1.00      0.87        30\n",
            "               directions       0.53      0.93      0.67        30\n",
            "                 distance       0.57      0.80      0.67        30\n",
            "         do_you_have_pets       0.88      1.00      0.94        30\n",
            "            exchange_rate       0.86      1.00      0.92        30\n",
            "          expiration_date       0.88      0.93      0.90        30\n",
            "               find_phone       0.66      0.97      0.78        30\n",
            "            flight_status       0.86      1.00      0.92        30\n",
            "                flip_coin       1.00      1.00      1.00        30\n",
            "                food_last       0.84      0.90      0.87        30\n",
            "           freeze_account       0.88      1.00      0.94        30\n",
            "                 fun_fact       0.93      0.83      0.88        30\n",
            "                      gas       0.94      1.00      0.97        30\n",
            "                 gas_type       0.88      1.00      0.94        30\n",
            "                  goodbye       0.55      0.87      0.68        30\n",
            "                 greeting       0.61      1.00      0.76        30\n",
            "                 how_busy       0.81      0.83      0.82        30\n",
            "          how_old_are_you       0.66      0.97      0.78        30\n",
            "     improve_credit_score       0.81      0.87      0.84        30\n",
            "                   income       0.66      0.83      0.74        30\n",
            "  ingredient_substitution       0.90      0.93      0.92        30\n",
            "         ingredients_list       0.62      0.83      0.71        30\n",
            "                insurance       0.94      1.00      0.97        30\n",
            "         insurance_change       0.93      0.83      0.88        30\n",
            "            interest_rate       0.69      0.80      0.74        30\n",
            "       international_fees       0.86      1.00      0.92        30\n",
            "       international_visa       0.94      1.00      0.97        30\n",
            "               jump_start       0.97      1.00      0.98        30\n",
            "         last_maintenance       0.77      1.00      0.87        30\n",
            "             lost_luggage       0.91      0.97      0.94        30\n",
            "                make_call       0.59      0.87      0.70        30\n",
            "                    maybe       0.55      0.60      0.57        30\n",
            "          meal_suggestion       0.72      0.97      0.83        30\n",
            "          meaning_of_life       0.78      0.93      0.85        30\n",
            "   measurement_conversion       0.97      0.93      0.95        30\n",
            "         meeting_schedule       0.88      0.97      0.92        30\n",
            "              min_payment       0.85      0.97      0.91        30\n",
            "                      mpg       0.86      1.00      0.92        30\n",
            "                 new_card       0.74      0.93      0.82        30\n",
            "             next_holiday       0.77      1.00      0.87        30\n",
            "                next_song       0.97      0.97      0.97        30\n",
            "                       no       0.55      0.90      0.68        30\n",
            "           nutrition_info       0.81      1.00      0.90        30\n",
            "           oil_change_how       0.80      0.93      0.86        30\n",
            "          oil_change_when       0.71      0.97      0.82        30\n",
            "                      oos       0.95      0.20      0.33      1000\n",
            "                    order       0.45      0.77      0.57        30\n",
            "             order_checks       0.97      1.00      0.98        30\n",
            "             order_status       0.75      0.90      0.82        30\n",
            "                 pay_bill       0.74      0.97      0.84        30\n",
            "                   payday       0.74      0.87      0.80        30\n",
            "               pin_change       1.00      1.00      1.00        30\n",
            "               play_music       0.79      0.77      0.78        30\n",
            "                plug_type       0.96      0.90      0.93        30\n",
            "              pto_balance       1.00      0.87      0.93        30\n",
            "              pto_request       0.84      0.90      0.87        30\n",
            "       pto_request_status       0.88      0.97      0.92        30\n",
            "                 pto_used       0.83      1.00      0.91        30\n",
            "                   recipe       0.56      0.77      0.65        30\n",
            "           redeem_rewards       0.77      0.80      0.79        30\n",
            "                 reminder       0.93      0.87      0.90        30\n",
            "          reminder_update       0.86      0.80      0.83        30\n",
            "                   repeat       0.69      0.80      0.74        30\n",
            "replacement_card_duration       0.67      0.80      0.73        30\n",
            "             report_fraud       0.89      0.57      0.69        30\n",
            "         report_lost_card       0.90      0.93      0.92        30\n",
            "           reset_settings       0.88      0.97      0.92        30\n",
            "   restaurant_reservation       0.70      0.87      0.78        30\n",
            "       restaurant_reviews       0.70      0.70      0.70        30\n",
            "    restaurant_suggestion       0.53      0.87      0.66        30\n",
            "          rewards_balance       0.85      0.97      0.91        30\n",
            "                roll_dice       1.00      1.00      1.00        30\n",
            "            rollover_401k       1.00      0.97      0.98        30\n",
            "                  routing       1.00      1.00      1.00        30\n",
            "     schedule_maintenance       0.67      0.87      0.75        30\n",
            "         schedule_meeting       0.88      1.00      0.94        30\n",
            "           share_location       0.68      0.87      0.76        30\n",
            "            shopping_list       0.71      0.83      0.77        30\n",
            "     shopping_list_update       0.86      0.80      0.83        30\n",
            "               smart_home       0.52      0.97      0.67        30\n",
            "                 spelling       0.76      0.97      0.85        30\n",
            "         spending_history       0.80      0.80      0.80        30\n",
            "              sync_device       0.64      0.93      0.76        30\n",
            "                    taxes       0.79      1.00      0.88        30\n",
            "                tell_joke       0.77      1.00      0.87        30\n",
            "                     text       0.71      0.90      0.79        30\n",
            "                thank_you       0.80      0.93      0.86        30\n",
            "                     time       0.63      0.87      0.73        30\n",
            "                    timer       0.85      0.97      0.91        30\n",
            "                 timezone       0.96      0.87      0.91        30\n",
            "              tire_change       0.93      0.90      0.92        30\n",
            "            tire_pressure       0.71      1.00      0.83        30\n",
            "                todo_list       0.85      0.93      0.89        30\n",
            "         todo_list_update       0.77      0.90      0.83        30\n",
            "                  traffic       0.91      1.00      0.95        30\n",
            "             transactions       0.67      0.80      0.73        30\n",
            "                 transfer       0.93      0.93      0.93        30\n",
            "                translate       0.90      0.93      0.92        30\n",
            "             travel_alert       0.88      1.00      0.94        30\n",
            "      travel_notification       0.91      0.97      0.94        30\n",
            "        travel_suggestion       0.69      0.80      0.74        30\n",
            "                     uber       0.94      1.00      0.97        30\n",
            "          update_playlist       0.97      1.00      0.98        30\n",
            "                user_name       0.77      0.77      0.77        30\n",
            "                 vaccines       0.81      1.00      0.90        30\n",
            "                       w2       1.00      0.90      0.95        30\n",
            "                  weather       0.64      1.00      0.78        30\n",
            "    what_are_your_hobbies       0.67      0.97      0.79        30\n",
            "       what_can_i_ask_you       0.64      0.83      0.72        30\n",
            "        what_is_your_name       0.67      0.93      0.78        30\n",
            "                what_song       0.73      1.00      0.85        30\n",
            "       where_are_you_from       0.76      0.93      0.84        30\n",
            "             whisper_mode       0.88      1.00      0.94        30\n",
            "      who_do_you_work_for       0.91      0.70      0.79        30\n",
            "             who_made_you       0.47      0.97      0.63        30\n",
            "                      yes       0.70      0.47      0.56        30\n",
            "\n",
            "                 accuracy                           0.78      5500\n",
            "                macro avg       0.80      0.91      0.84      5500\n",
            "             weighted avg       0.82      0.78      0.75      5500\n",
            "\n"
          ],
          "name": "stdout"
        }
      ]
    },
    {
      "cell_type": "code",
      "metadata": {
        "id": "7MPvYv9yESEE",
        "colab_type": "code",
        "colab": {}
      },
      "source": [
        ""
      ],
      "execution_count": 0,
      "outputs": []
    }
  ]
}